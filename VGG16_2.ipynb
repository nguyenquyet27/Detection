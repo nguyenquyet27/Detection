{
  "nbformat": 4,
  "nbformat_minor": 0,
  "metadata": {
    "colab": {
      "name": "VGG16-2.ipynb",
      "provenance": [],
      "toc_visible": true
    },
    "kernelspec": {
      "name": "python3",
      "display_name": "Python 3"
    }
  },
  "cells": [
    {
      "cell_type": "code",
      "metadata": {
        "id": "AtvlibNMwT6y",
        "colab": {
          "base_uri": "https://localhost:8080/",
          "height": 54
        },
        "outputId": "f5dc3a53-7df2-48ad-90b7-37c566eda008"
      },
      "source": [
        "from google.colab import drive\n",
        "drive.mount('/content/drive')"
      ],
      "execution_count": null,
      "outputs": [
        {
          "output_type": "stream",
          "text": [
            "Drive already mounted at /content/drive; to attempt to forcibly remount, call drive.mount(\"/content/drive\", force_remount=True).\n"
          ],
          "name": "stdout"
        }
      ]
    },
    {
      "cell_type": "code",
      "metadata": {
        "id": "qGvqlF49wc1t",
        "colab": {
          "base_uri": "https://localhost:8080/",
          "height": 34
        },
        "outputId": "274d55f6-4489-4810-f0f2-9919740e66ed"
      },
      "source": [
        "cd drive/My Drive/Colab Notebooks/Waste Classification"
      ],
      "execution_count": null,
      "outputs": [
        {
          "output_type": "stream",
          "text": [
            "/content/drive/My Drive/Colab Notebooks/Waste Classification\n"
          ],
          "name": "stdout"
        }
      ]
    },
    {
      "cell_type": "code",
      "metadata": {
        "id": "zTdeEzwL5ayC",
        "colab": {
          "base_uri": "https://localhost:8080/",
          "height": 34
        },
        "outputId": "f44471e8-dbe5-4416-988a-01f448b746ff"
      },
      "source": [
        "import os\n",
        "import pathlib\n",
        "import random\n",
        "import numpy as np\n",
        "from numpy import save\n",
        "from imutils import paths\n",
        "from keras.preprocessing.image import load_img\n",
        "from sklearn.preprocessing import LabelEncoder\n",
        "from keras.preprocessing.image import img_to_array\n",
        "from sklearn.model_selection import train_test_split\n",
        "from keras.applications import VGG16\n",
        "from keras.applications import imagenet_utils  \n",
        "from sklearn.linear_model import LogisticRegression\n",
        "from sklearn.model_selection import GridSearchCV\n",
        "from sklearn.metrics import classification_report\n",
        "\n",
        "from keras.preprocessing.image import ImageDataGenerator\n",
        "from sklearn.preprocessing import LabelBinarizer\n",
        "from keras.optimizers import SGD\n",
        "from keras.optimizers import RMSprop\n",
        "from keras.layers import Input\n",
        "from keras.models import Model\n",
        "from keras.layers.core import Dense\n",
        "from keras.layers.core import Dropout\n",
        "from keras.layers.core import Flatten"
      ],
      "execution_count": null,
      "outputs": [
        {
          "output_type": "stream",
          "text": [
            "Using TensorFlow backend.\n"
          ],
          "name": "stderr"
        }
      ]
    },
    {
      "cell_type": "markdown",
      "metadata": {
        "id": "U0A9HI905I9W"
      },
      "source": [
        "## Feature extraction"
      ]
    },
    {
      "cell_type": "markdown",
      "metadata": {
        "id": "dDDM8zXg85Jj"
      },
      "source": [
        "### Chuẩn bị dữ liệu\n",
        "\n"
      ]
    },
    {
      "cell_type": "markdown",
      "metadata": {
        "id": "mAwTsD5DpxL9"
      },
      "source": [
        "Load ảnh và resize về 224,224"
      ]
    },
    {
      "cell_type": "code",
      "metadata": {
        "id": "7tr_i8TP7_JL",
        "colab": {
          "base_uri": "https://localhost:8080/",
          "height": 34
        },
        "outputId": "cb3342ab-24cd-4043-adb8-4d6c4bf992cb"
      },
      "source": [
        "# Data train\n",
        "# Take image path\n",
        "data_train = pathlib.Path('DATASET/TRAIN')\n",
        "image_path = list(data_train.glob('*/*'))\n",
        "image_path = [str(path) for path in image_path]\n",
        "random.shuffle(image_path)\n",
        "# Take labels train\n",
        "labels = [p.split(os.path.sep)[-2] for p in image_path]\n",
        "# convert labels to number\n",
        "lab = LabelEncoder()\n",
        "labels = lab.fit_transform(labels)\n",
        "\n",
        "print(len(image_path))"
      ],
      "execution_count": null,
      "outputs": [
        {
          "output_type": "stream",
          "text": [
            "20064\n"
          ],
          "name": "stdout"
        }
      ]
    },
    {
      "cell_type": "code",
      "metadata": {
        "id": "-v7xzPR92nGJ",
        "colab": {
          "base_uri": "https://localhost:8080/",
          "height": 34
        },
        "outputId": "5256aea1-2fae-4f0f-b2da-0ce545b9e007"
      },
      "source": [
        "# Data val\n",
        "# Take image path\n",
        "data_val = pathlib.Path('DATASET/VAL')\n",
        "image_path_val = list(data_val.glob('*/*'))\n",
        "image_path_val = [str(path) for path in image_path_val]\n",
        "random.shuffle(image_path)\n",
        "# Take labels train\n",
        "labels = [p.split(os.path.sep)[-2] for p in image_path_val]\n",
        "# convert labels to number\n",
        "lab = LabelEncoder()\n",
        "labels_val = lab.fit_transform(labels)\n",
        "\n",
        "print(len(image_path_val))"
      ],
      "execution_count": null,
      "outputs": [
        {
          "output_type": "stream",
          "text": [
            "2500\n"
          ],
          "name": "stdout"
        }
      ]
    },
    {
      "cell_type": "code",
      "metadata": {
        "id": "0Nrv98ct8DF4",
        "colab": {
          "base_uri": "https://localhost:8080/",
          "height": 34
        },
        "outputId": "30057719-3ce8-4571-dfe6-377a7d072143"
      },
      "source": [
        "# Data test\n",
        "# Take image path\n",
        "data_test = pathlib.Path('DATASET/TEST')\n",
        "image_path_test = list(data_test.glob('*/*'))\n",
        "image_path_test = [str(path) for path in image_path_test]\n",
        "random.shuffle(image_path)\n",
        "# Take labels train\n",
        "labels = [p.split(os.path.sep)[-2] for p in image_path_test]\n",
        "# convert labels to number\n",
        "lab = LabelEncoder()\n",
        "labels_test = lab.fit_transform(labels)\n",
        "\n",
        "print(len(image_path_test))"
      ],
      "execution_count": null,
      "outputs": [
        {
          "output_type": "stream",
          "text": [
            "2513\n"
          ],
          "name": "stdout"
        }
      ]
    },
    {
      "cell_type": "code",
      "metadata": {
        "id": "_3hG9UOh70h-"
      },
      "source": [
        "def load_resize_image(image_path):\n",
        "  list_image = []\n",
        "  for (j, imagePath) in enumerate(image_path):\n",
        "      image = load_img(imagePath, target_size=(224, 224))\n",
        "      image = img_to_array(image)\n",
        "      image = np.expand_dims(image, 0)\n",
        "      image = imagenet_utils.preprocess_input(image)\n",
        "      list_image.append(image)\n",
        "  list_image = np.vstack(list_image)\n",
        "  return list_image"
      ],
      "execution_count": null,
      "outputs": []
    },
    {
      "cell_type": "code",
      "metadata": {
        "id": "3dn491ft74_Z"
      },
      "source": [
        "x_train = load_resize_image(image_path)"
      ],
      "execution_count": null,
      "outputs": []
    },
    {
      "cell_type": "code",
      "metadata": {
        "id": "siIO6ViL56ok"
      },
      "source": [
        "x_val = load_resize_image(image_path_val)"
      ],
      "execution_count": null,
      "outputs": []
    },
    {
      "cell_type": "code",
      "metadata": {
        "id": "K9bjhkER8y9p"
      },
      "source": [
        "x_test = load_resize_image(image_path_test)"
      ],
      "execution_count": null,
      "outputs": []
    },
    {
      "cell_type": "code",
      "metadata": {
        "id": "oKxSE-k39JCB"
      },
      "source": [
        "y_train = labels\n",
        "y_val = labels_val\n",
        "y_test = labels_test"
      ],
      "execution_count": null,
      "outputs": []
    },
    {
      "cell_type": "markdown",
      "metadata": {
        "id": "wczLfYW99C7v"
      },
      "source": [
        "### Sử dụng VGG16 để rút trích đặc trưng từ hình ảnh"
      ]
    },
    {
      "cell_type": "code",
      "metadata": {
        "id": "Al0SFDAt80_F",
        "colab": {
          "base_uri": "https://localhost:8080/",
          "height": 71
        },
        "outputId": "9e7fba94-e2fb-4121-e15b-6d9b09bb6cd3"
      },
      "source": [
        "# Load model VGG16\n",
        "model = VGG16(weights='imagenet', include_top=False)"
      ],
      "execution_count": null,
      "outputs": [
        {
          "output_type": "stream",
          "text": [
            "Downloading data from https://github.com/fchollet/deep-learning-models/releases/download/v0.1/vgg16_weights_tf_dim_ordering_tf_kernels_notop.h5\n",
            "58892288/58889256 [==============================] - 2s 0us/step\n"
          ],
          "name": "stdout"
        }
      ]
    },
    {
      "cell_type": "code",
      "metadata": {
        "id": "Sc22D6EmT5HS"
      },
      "source": [
        "features1 = model.predict(x_train)\n",
        "x_train = features1.reshape((features1.shape[0], 512*7*7))"
      ],
      "execution_count": null,
      "outputs": []
    },
    {
      "cell_type": "code",
      "metadata": {
        "id": "ztEYbxN6UCnl"
      },
      "source": [
        "features2 = model.predict(x_val)\n",
        "x_val = features2.reshape((features2.shape[0], 512*7*7))"
      ],
      "execution_count": null,
      "outputs": []
    },
    {
      "cell_type": "code",
      "metadata": {
        "id": "ewPjs_6e5sM5"
      },
      "source": [
        "features3 = model.predict(x_test)\n",
        "x_test = features3.reshape((features3.shape[0], 512*7*7))"
      ],
      "execution_count": null,
      "outputs": []
    },
    {
      "cell_type": "code",
      "metadata": {
        "id": "fGLOyW3f9gWl"
      },
      "source": [
        "x_train = np.load('x_train.npy')\n",
        "x_val = np.load('x_val1.npy')\n",
        "x_test = np.load('x_test1.npy')"
      ],
      "execution_count": null,
      "outputs": []
    },
    {
      "cell_type": "code",
      "metadata": {
        "id": "jbD4R6rj9h9W"
      },
      "source": [
        "y_train = np.load('y_train.npy')\n",
        "y_val = np.load('y_val.npy')\n",
        "y_test = np.load('y_test.npy')"
      ],
      "execution_count": null,
      "outputs": []
    },
    {
      "cell_type": "code",
      "metadata": {
        "id": "hNvgyQaA9ije",
        "colab": {
          "base_uri": "https://localhost:8080/",
          "height": 119
        },
        "outputId": "e23d910f-0232-47f9-c268-d4c4e9837b91"
      },
      "source": [
        "print('X train: ',x_train.shape)\n",
        "print('Y train: ',y_train.shape)\n",
        "print('X valid: ',x_val.shape)\n",
        "print('Y valid: ',y_val.shape)\n",
        "print('X test: ',x_test.shape)\n",
        "print('Y test: ',y_test.shape)"
      ],
      "execution_count": null,
      "outputs": [
        {
          "output_type": "stream",
          "text": [
            "X train:  (20064, 25088)\n",
            "Y train:  (20064,)\n",
            "X valid:  (2500, 25088)\n",
            "Y valid:  (2500,)\n",
            "X test:  (2513, 25088)\n",
            "Y test:  (2513,)\n"
          ],
          "name": "stdout"
        }
      ]
    },
    {
      "cell_type": "markdown",
      "metadata": {
        "id": "sAGiFidhph1y"
      },
      "source": [
        "### Dùng thuật toán Logistic Regression để phân loại và đánh giá mô hình"
      ]
    },
    {
      "cell_type": "code",
      "metadata": {
        "id": "0bQLcDte9kWD",
        "colab": {
          "base_uri": "https://localhost:8080/",
          "height": 1000
        },
        "outputId": "7ba44f04-44f1-4e7a-9b6f-184025d7b506"
      },
      "source": [
        "# Train model by Logistic Regression\n",
        "params = {'C' : [0.1, 1.0, 10.0, 100.0]}\n",
        "model = GridSearchCV(LogisticRegression(), params)\n",
        "model.fit(x_train, y_train)\n",
        "print('Best parameter for the model {}'.format(model.best_params_))"
      ],
      "execution_count": null,
      "outputs": [
        {
          "output_type": "stream",
          "text": [
            "/usr/local/lib/python3.6/dist-packages/sklearn/linear_model/_logistic.py:940: ConvergenceWarning: lbfgs failed to converge (status=1):\n",
            "STOP: TOTAL NO. of ITERATIONS REACHED LIMIT.\n",
            "\n",
            "Increase the number of iterations (max_iter) or scale the data as shown in:\n",
            "    https://scikit-learn.org/stable/modules/preprocessing.html\n",
            "Please also refer to the documentation for alternative solver options:\n",
            "    https://scikit-learn.org/stable/modules/linear_model.html#logistic-regression\n",
            "  extra_warning_msg=_LOGISTIC_SOLVER_CONVERGENCE_MSG)\n",
            "/usr/local/lib/python3.6/dist-packages/sklearn/linear_model/_logistic.py:940: ConvergenceWarning: lbfgs failed to converge (status=1):\n",
            "STOP: TOTAL NO. of ITERATIONS REACHED LIMIT.\n",
            "\n",
            "Increase the number of iterations (max_iter) or scale the data as shown in:\n",
            "    https://scikit-learn.org/stable/modules/preprocessing.html\n",
            "Please also refer to the documentation for alternative solver options:\n",
            "    https://scikit-learn.org/stable/modules/linear_model.html#logistic-regression\n",
            "  extra_warning_msg=_LOGISTIC_SOLVER_CONVERGENCE_MSG)\n",
            "/usr/local/lib/python3.6/dist-packages/sklearn/linear_model/_logistic.py:940: ConvergenceWarning: lbfgs failed to converge (status=1):\n",
            "STOP: TOTAL NO. of ITERATIONS REACHED LIMIT.\n",
            "\n",
            "Increase the number of iterations (max_iter) or scale the data as shown in:\n",
            "    https://scikit-learn.org/stable/modules/preprocessing.html\n",
            "Please also refer to the documentation for alternative solver options:\n",
            "    https://scikit-learn.org/stable/modules/linear_model.html#logistic-regression\n",
            "  extra_warning_msg=_LOGISTIC_SOLVER_CONVERGENCE_MSG)\n",
            "/usr/local/lib/python3.6/dist-packages/sklearn/linear_model/_logistic.py:940: ConvergenceWarning: lbfgs failed to converge (status=1):\n",
            "STOP: TOTAL NO. of ITERATIONS REACHED LIMIT.\n",
            "\n",
            "Increase the number of iterations (max_iter) or scale the data as shown in:\n",
            "    https://scikit-learn.org/stable/modules/preprocessing.html\n",
            "Please also refer to the documentation for alternative solver options:\n",
            "    https://scikit-learn.org/stable/modules/linear_model.html#logistic-regression\n",
            "  extra_warning_msg=_LOGISTIC_SOLVER_CONVERGENCE_MSG)\n",
            "/usr/local/lib/python3.6/dist-packages/sklearn/linear_model/_logistic.py:940: ConvergenceWarning: lbfgs failed to converge (status=1):\n",
            "STOP: TOTAL NO. of ITERATIONS REACHED LIMIT.\n",
            "\n",
            "Increase the number of iterations (max_iter) or scale the data as shown in:\n",
            "    https://scikit-learn.org/stable/modules/preprocessing.html\n",
            "Please also refer to the documentation for alternative solver options:\n",
            "    https://scikit-learn.org/stable/modules/linear_model.html#logistic-regression\n",
            "  extra_warning_msg=_LOGISTIC_SOLVER_CONVERGENCE_MSG)\n",
            "/usr/local/lib/python3.6/dist-packages/sklearn/linear_model/_logistic.py:940: ConvergenceWarning: lbfgs failed to converge (status=1):\n",
            "STOP: TOTAL NO. of ITERATIONS REACHED LIMIT.\n",
            "\n",
            "Increase the number of iterations (max_iter) or scale the data as shown in:\n",
            "    https://scikit-learn.org/stable/modules/preprocessing.html\n",
            "Please also refer to the documentation for alternative solver options:\n",
            "    https://scikit-learn.org/stable/modules/linear_model.html#logistic-regression\n",
            "  extra_warning_msg=_LOGISTIC_SOLVER_CONVERGENCE_MSG)\n",
            "/usr/local/lib/python3.6/dist-packages/sklearn/linear_model/_logistic.py:940: ConvergenceWarning: lbfgs failed to converge (status=1):\n",
            "STOP: TOTAL NO. of ITERATIONS REACHED LIMIT.\n",
            "\n",
            "Increase the number of iterations (max_iter) or scale the data as shown in:\n",
            "    https://scikit-learn.org/stable/modules/preprocessing.html\n",
            "Please also refer to the documentation for alternative solver options:\n",
            "    https://scikit-learn.org/stable/modules/linear_model.html#logistic-regression\n",
            "  extra_warning_msg=_LOGISTIC_SOLVER_CONVERGENCE_MSG)\n",
            "/usr/local/lib/python3.6/dist-packages/sklearn/linear_model/_logistic.py:940: ConvergenceWarning: lbfgs failed to converge (status=1):\n",
            "STOP: TOTAL NO. of ITERATIONS REACHED LIMIT.\n",
            "\n",
            "Increase the number of iterations (max_iter) or scale the data as shown in:\n",
            "    https://scikit-learn.org/stable/modules/preprocessing.html\n",
            "Please also refer to the documentation for alternative solver options:\n",
            "    https://scikit-learn.org/stable/modules/linear_model.html#logistic-regression\n",
            "  extra_warning_msg=_LOGISTIC_SOLVER_CONVERGENCE_MSG)\n",
            "/usr/local/lib/python3.6/dist-packages/sklearn/linear_model/_logistic.py:940: ConvergenceWarning: lbfgs failed to converge (status=1):\n",
            "STOP: TOTAL NO. of ITERATIONS REACHED LIMIT.\n",
            "\n",
            "Increase the number of iterations (max_iter) or scale the data as shown in:\n",
            "    https://scikit-learn.org/stable/modules/preprocessing.html\n",
            "Please also refer to the documentation for alternative solver options:\n",
            "    https://scikit-learn.org/stable/modules/linear_model.html#logistic-regression\n",
            "  extra_warning_msg=_LOGISTIC_SOLVER_CONVERGENCE_MSG)\n",
            "/usr/local/lib/python3.6/dist-packages/sklearn/linear_model/_logistic.py:940: ConvergenceWarning: lbfgs failed to converge (status=1):\n",
            "STOP: TOTAL NO. of ITERATIONS REACHED LIMIT.\n",
            "\n",
            "Increase the number of iterations (max_iter) or scale the data as shown in:\n",
            "    https://scikit-learn.org/stable/modules/preprocessing.html\n",
            "Please also refer to the documentation for alternative solver options:\n",
            "    https://scikit-learn.org/stable/modules/linear_model.html#logistic-regression\n",
            "  extra_warning_msg=_LOGISTIC_SOLVER_CONVERGENCE_MSG)\n",
            "/usr/local/lib/python3.6/dist-packages/sklearn/linear_model/_logistic.py:940: ConvergenceWarning: lbfgs failed to converge (status=1):\n",
            "STOP: TOTAL NO. of ITERATIONS REACHED LIMIT.\n",
            "\n",
            "Increase the number of iterations (max_iter) or scale the data as shown in:\n",
            "    https://scikit-learn.org/stable/modules/preprocessing.html\n",
            "Please also refer to the documentation for alternative solver options:\n",
            "    https://scikit-learn.org/stable/modules/linear_model.html#logistic-regression\n",
            "  extra_warning_msg=_LOGISTIC_SOLVER_CONVERGENCE_MSG)\n",
            "/usr/local/lib/python3.6/dist-packages/sklearn/linear_model/_logistic.py:940: ConvergenceWarning: lbfgs failed to converge (status=1):\n",
            "STOP: TOTAL NO. of ITERATIONS REACHED LIMIT.\n",
            "\n",
            "Increase the number of iterations (max_iter) or scale the data as shown in:\n",
            "    https://scikit-learn.org/stable/modules/preprocessing.html\n",
            "Please also refer to the documentation for alternative solver options:\n",
            "    https://scikit-learn.org/stable/modules/linear_model.html#logistic-regression\n",
            "  extra_warning_msg=_LOGISTIC_SOLVER_CONVERGENCE_MSG)\n",
            "/usr/local/lib/python3.6/dist-packages/sklearn/linear_model/_logistic.py:940: ConvergenceWarning: lbfgs failed to converge (status=1):\n",
            "STOP: TOTAL NO. of ITERATIONS REACHED LIMIT.\n",
            "\n",
            "Increase the number of iterations (max_iter) or scale the data as shown in:\n",
            "    https://scikit-learn.org/stable/modules/preprocessing.html\n",
            "Please also refer to the documentation for alternative solver options:\n",
            "    https://scikit-learn.org/stable/modules/linear_model.html#logistic-regression\n",
            "  extra_warning_msg=_LOGISTIC_SOLVER_CONVERGENCE_MSG)\n",
            "/usr/local/lib/python3.6/dist-packages/sklearn/linear_model/_logistic.py:940: ConvergenceWarning: lbfgs failed to converge (status=1):\n",
            "STOP: TOTAL NO. of ITERATIONS REACHED LIMIT.\n",
            "\n",
            "Increase the number of iterations (max_iter) or scale the data as shown in:\n",
            "    https://scikit-learn.org/stable/modules/preprocessing.html\n",
            "Please also refer to the documentation for alternative solver options:\n",
            "    https://scikit-learn.org/stable/modules/linear_model.html#logistic-regression\n",
            "  extra_warning_msg=_LOGISTIC_SOLVER_CONVERGENCE_MSG)\n",
            "/usr/local/lib/python3.6/dist-packages/sklearn/linear_model/_logistic.py:940: ConvergenceWarning: lbfgs failed to converge (status=1):\n",
            "STOP: TOTAL NO. of ITERATIONS REACHED LIMIT.\n",
            "\n",
            "Increase the number of iterations (max_iter) or scale the data as shown in:\n",
            "    https://scikit-learn.org/stable/modules/preprocessing.html\n",
            "Please also refer to the documentation for alternative solver options:\n",
            "    https://scikit-learn.org/stable/modules/linear_model.html#logistic-regression\n",
            "  extra_warning_msg=_LOGISTIC_SOLVER_CONVERGENCE_MSG)\n",
            "/usr/local/lib/python3.6/dist-packages/sklearn/linear_model/_logistic.py:940: ConvergenceWarning: lbfgs failed to converge (status=1):\n",
            "STOP: TOTAL NO. of ITERATIONS REACHED LIMIT.\n",
            "\n",
            "Increase the number of iterations (max_iter) or scale the data as shown in:\n",
            "    https://scikit-learn.org/stable/modules/preprocessing.html\n",
            "Please also refer to the documentation for alternative solver options:\n",
            "    https://scikit-learn.org/stable/modules/linear_model.html#logistic-regression\n",
            "  extra_warning_msg=_LOGISTIC_SOLVER_CONVERGENCE_MSG)\n",
            "/usr/local/lib/python3.6/dist-packages/sklearn/linear_model/_logistic.py:940: ConvergenceWarning: lbfgs failed to converge (status=1):\n",
            "STOP: TOTAL NO. of ITERATIONS REACHED LIMIT.\n",
            "\n",
            "Increase the number of iterations (max_iter) or scale the data as shown in:\n",
            "    https://scikit-learn.org/stable/modules/preprocessing.html\n",
            "Please also refer to the documentation for alternative solver options:\n",
            "    https://scikit-learn.org/stable/modules/linear_model.html#logistic-regression\n",
            "  extra_warning_msg=_LOGISTIC_SOLVER_CONVERGENCE_MSG)\n",
            "/usr/local/lib/python3.6/dist-packages/sklearn/linear_model/_logistic.py:940: ConvergenceWarning: lbfgs failed to converge (status=1):\n",
            "STOP: TOTAL NO. of ITERATIONS REACHED LIMIT.\n",
            "\n",
            "Increase the number of iterations (max_iter) or scale the data as shown in:\n",
            "    https://scikit-learn.org/stable/modules/preprocessing.html\n",
            "Please also refer to the documentation for alternative solver options:\n",
            "    https://scikit-learn.org/stable/modules/linear_model.html#logistic-regression\n",
            "  extra_warning_msg=_LOGISTIC_SOLVER_CONVERGENCE_MSG)\n",
            "/usr/local/lib/python3.6/dist-packages/sklearn/linear_model/_logistic.py:940: ConvergenceWarning: lbfgs failed to converge (status=1):\n",
            "STOP: TOTAL NO. of ITERATIONS REACHED LIMIT.\n",
            "\n",
            "Increase the number of iterations (max_iter) or scale the data as shown in:\n",
            "    https://scikit-learn.org/stable/modules/preprocessing.html\n",
            "Please also refer to the documentation for alternative solver options:\n",
            "    https://scikit-learn.org/stable/modules/linear_model.html#logistic-regression\n",
            "  extra_warning_msg=_LOGISTIC_SOLVER_CONVERGENCE_MSG)\n",
            "/usr/local/lib/python3.6/dist-packages/sklearn/linear_model/_logistic.py:940: ConvergenceWarning: lbfgs failed to converge (status=1):\n",
            "STOP: TOTAL NO. of ITERATIONS REACHED LIMIT.\n",
            "\n",
            "Increase the number of iterations (max_iter) or scale the data as shown in:\n",
            "    https://scikit-learn.org/stable/modules/preprocessing.html\n",
            "Please also refer to the documentation for alternative solver options:\n",
            "    https://scikit-learn.org/stable/modules/linear_model.html#logistic-regression\n",
            "  extra_warning_msg=_LOGISTIC_SOLVER_CONVERGENCE_MSG)\n"
          ],
          "name": "stderr"
        },
        {
          "output_type": "stream",
          "text": [
            "Best parameter for the model {'C': 0.1}\n"
          ],
          "name": "stdout"
        },
        {
          "output_type": "stream",
          "text": [
            "/usr/local/lib/python3.6/dist-packages/sklearn/linear_model/_logistic.py:940: ConvergenceWarning: lbfgs failed to converge (status=1):\n",
            "STOP: TOTAL NO. of ITERATIONS REACHED LIMIT.\n",
            "\n",
            "Increase the number of iterations (max_iter) or scale the data as shown in:\n",
            "    https://scikit-learn.org/stable/modules/preprocessing.html\n",
            "Please also refer to the documentation for alternative solver options:\n",
            "    https://scikit-learn.org/stable/modules/linear_model.html#logistic-regression\n",
            "  extra_warning_msg=_LOGISTIC_SOLVER_CONVERGENCE_MSG)\n"
          ],
          "name": "stderr"
        }
      ]
    },
    {
      "cell_type": "code",
      "metadata": {
        "id": "rMmV9qx5pMwf",
        "colab": {
          "base_uri": "https://localhost:8080/",
          "height": 170
        },
        "outputId": "8486e9d8-d578-480a-972e-1cc73accda6e"
      },
      "source": [
        "y_pred = model.predict(x_val)\n",
        "print(classification_report(y_val, y_pred))"
      ],
      "execution_count": null,
      "outputs": [
        {
          "output_type": "stream",
          "text": [
            "              precision    recall  f1-score   support\n",
            "\n",
            "           0       0.95      0.95      0.95      1400\n",
            "           1       0.93      0.94      0.93      1100\n",
            "\n",
            "    accuracy                           0.94      2500\n",
            "   macro avg       0.94      0.94      0.94      2500\n",
            "weighted avg       0.94      0.94      0.94      2500\n",
            "\n"
          ],
          "name": "stdout"
        }
      ]
    },
    {
      "cell_type": "code",
      "metadata": {
        "id": "zzM9r_zj8fVf",
        "colab": {
          "base_uri": "https://localhost:8080/",
          "height": 34
        },
        "outputId": "704e0588-e5f1-45c6-87bc-aa3c2b69192d"
      },
      "source": [
        "from sklearn.metrics import roc_auc_score\n",
        "\n",
        "print('AUC: ',roc_auc_score(y_val, y_pred))"
      ],
      "execution_count": null,
      "outputs": [
        {
          "output_type": "stream",
          "text": [
            "AUC:  0.9417532467532469\n"
          ],
          "name": "stdout"
        }
      ]
    },
    {
      "cell_type": "code",
      "metadata": {
        "id": "2pJpT7oZ9mgK",
        "colab": {
          "base_uri": "https://localhost:8080/",
          "height": 170
        },
        "outputId": "ecafbd2d-2cfc-4fc3-95d5-f96cfd3bd59e"
      },
      "source": [
        "y_predict = model.predict(x_test)\n",
        "print(classification_report(y_test, y_predict))"
      ],
      "execution_count": null,
      "outputs": [
        {
          "output_type": "stream",
          "text": [
            "              precision    recall  f1-score   support\n",
            "\n",
            "           0       0.87      0.98      0.92      1401\n",
            "           1       0.97      0.81      0.88      1112\n",
            "\n",
            "    accuracy                           0.90      2513\n",
            "   macro avg       0.92      0.90      0.90      2513\n",
            "weighted avg       0.91      0.90      0.90      2513\n",
            "\n"
          ],
          "name": "stdout"
        }
      ]
    },
    {
      "cell_type": "code",
      "metadata": {
        "id": "tJD9vb5dpP_0",
        "colab": {
          "base_uri": "https://localhost:8080/",
          "height": 34
        },
        "outputId": "9384df18-28fc-49d7-b455-8afc8a5ef665"
      },
      "source": [
        "from sklearn.metrics import roc_auc_score\n",
        "\n",
        "print('AUC: ',roc_auc_score(y_test, y_predict))"
      ],
      "execution_count": null,
      "outputs": [
        {
          "output_type": "stream",
          "text": [
            "AUC:  0.8951330370393193\n"
          ],
          "name": "stdout"
        }
      ]
    },
    {
      "cell_type": "code",
      "metadata": {
        "id": "ON-NdH1b9oqp"
      },
      "source": [
        "import pickle\n",
        "\n",
        "pickle.dump(model, open('vgg16_logistic', 'wb'))"
      ],
      "execution_count": null,
      "outputs": []
    },
    {
      "cell_type": "markdown",
      "metadata": {
        "id": "6SV3n3wQ5O1C"
      },
      "source": [
        "## Fine tuning"
      ]
    },
    {
      "cell_type": "markdown",
      "metadata": {
        "id": "0sQk3eiMqKjm"
      },
      "source": [
        "### Chuẩn bị dữ liệu"
      ]
    },
    {
      "cell_type": "code",
      "metadata": {
        "id": "PESOrwuQwn6G",
        "colab": {
          "base_uri": "https://localhost:8080/",
          "height": 85
        },
        "outputId": "1a3e7456-4daa-4004-be5c-4eadd300da2e"
      },
      "source": [
        "train_gen = ImageDataGenerator()\n",
        "valid_gen = ImageDataGenerator()\n",
        "\n",
        "train_dir = 'DATASET/TRAIN/'\n",
        "valid_dir = 'DATASET/VAL'\n",
        "\n",
        "bs = 128\n",
        "train_generator = train_gen.flow_from_directory(train_dir, batch_size = bs, target_size = (224, 224), class_mode = 'binary')\n",
        "valid_generator = valid_gen.flow_from_directory(valid_dir, batch_size = bs, target_size = (224, 224), class_mode = 'binary')\n",
        "\n",
        "\n",
        "print(train_generator)\n",
        "print(valid_generator)"
      ],
      "execution_count": null,
      "outputs": [
        {
          "output_type": "stream",
          "text": [
            "Found 20064 images belonging to 2 classes.\n",
            "Found 2500 images belonging to 2 classes.\n",
            "<keras.preprocessing.image.DirectoryIterator object at 0x7f4e9b0f4ef0>\n",
            "<keras.preprocessing.image.DirectoryIterator object at 0x7f4e9b0f4e48>\n"
          ],
          "name": "stdout"
        }
      ]
    },
    {
      "cell_type": "markdown",
      "metadata": {
        "id": "2nA-zjEDqN0J"
      },
      "source": [
        "### Xây dựng mô hình mới dựa trên VGG16"
      ]
    },
    {
      "cell_type": "code",
      "metadata": {
        "id": "OJCONMsEviTF",
        "colab": {
          "base_uri": "https://localhost:8080/",
          "height": 71
        },
        "outputId": "24910eec-6053-4c8b-a480-986f8f0eed06"
      },
      "source": [
        "baseModel = VGG16(weights='imagenet', include_top=False, input_tensor=Input(shape=(224, 224, 3)))"
      ],
      "execution_count": null,
      "outputs": [
        {
          "output_type": "stream",
          "text": [
            "Downloading data from https://github.com/fchollet/deep-learning-models/releases/download/v0.1/vgg16_weights_tf_dim_ordering_tf_kernels_notop.h5\n",
            "58892288/58889256 [==============================] - 2s 0us/step\n"
          ],
          "name": "stdout"
        }
      ]
    },
    {
      "cell_type": "code",
      "metadata": {
        "id": "Egww2vguvofJ",
        "colab": {
          "base_uri": "https://localhost:8080/",
          "height": 799
        },
        "outputId": "3e244199-c918-47f2-feae-bc9ed7e4d057"
      },
      "source": [
        "baseModel.summary()"
      ],
      "execution_count": null,
      "outputs": [
        {
          "output_type": "stream",
          "text": [
            "Model: \"vgg16\"\n",
            "_________________________________________________________________\n",
            "Layer (type)                 Output Shape              Param #   \n",
            "=================================================================\n",
            "input_2 (InputLayer)         (None, 224, 224, 3)       0         \n",
            "_________________________________________________________________\n",
            "block1_conv1 (Conv2D)        (None, 224, 224, 64)      1792      \n",
            "_________________________________________________________________\n",
            "block1_conv2 (Conv2D)        (None, 224, 224, 64)      36928     \n",
            "_________________________________________________________________\n",
            "block1_pool (MaxPooling2D)   (None, 112, 112, 64)      0         \n",
            "_________________________________________________________________\n",
            "block2_conv1 (Conv2D)        (None, 112, 112, 128)     73856     \n",
            "_________________________________________________________________\n",
            "block2_conv2 (Conv2D)        (None, 112, 112, 128)     147584    \n",
            "_________________________________________________________________\n",
            "block2_pool (MaxPooling2D)   (None, 56, 56, 128)       0         \n",
            "_________________________________________________________________\n",
            "block3_conv1 (Conv2D)        (None, 56, 56, 256)       295168    \n",
            "_________________________________________________________________\n",
            "block3_conv2 (Conv2D)        (None, 56, 56, 256)       590080    \n",
            "_________________________________________________________________\n",
            "block3_conv3 (Conv2D)        (None, 56, 56, 256)       590080    \n",
            "_________________________________________________________________\n",
            "block3_pool (MaxPooling2D)   (None, 28, 28, 256)       0         \n",
            "_________________________________________________________________\n",
            "block4_conv1 (Conv2D)        (None, 28, 28, 512)       1180160   \n",
            "_________________________________________________________________\n",
            "block4_conv2 (Conv2D)        (None, 28, 28, 512)       2359808   \n",
            "_________________________________________________________________\n",
            "block4_conv3 (Conv2D)        (None, 28, 28, 512)       2359808   \n",
            "_________________________________________________________________\n",
            "block4_pool (MaxPooling2D)   (None, 14, 14, 512)       0         \n",
            "_________________________________________________________________\n",
            "block5_conv1 (Conv2D)        (None, 14, 14, 512)       2359808   \n",
            "_________________________________________________________________\n",
            "block5_conv2 (Conv2D)        (None, 14, 14, 512)       2359808   \n",
            "_________________________________________________________________\n",
            "block5_conv3 (Conv2D)        (None, 14, 14, 512)       2359808   \n",
            "_________________________________________________________________\n",
            "block5_pool (MaxPooling2D)   (None, 7, 7, 512)         0         \n",
            "=================================================================\n",
            "Total params: 14,714,688\n",
            "Trainable params: 14,714,688\n",
            "Non-trainable params: 0\n",
            "_________________________________________________________________\n"
          ],
          "name": "stdout"
        }
      ]
    },
    {
      "cell_type": "code",
      "metadata": {
        "id": "4MuaVFaJvozo"
      },
      "source": [
        "from keras.layers import Conv2D\n",
        "from keras.layers.pooling import MaxPooling2D\n",
        "from keras.layers.normalization import BatchNormalization\n",
        "\n",
        "# Built new model base on VGG16\n",
        "fcHead = baseModel.output\n",
        "# Add flatten layer\n",
        "fcHead = BatchNormalization(name='BN')(fcHead)\n",
        "fcHead = Flatten(name='flatten')(fcHead)\n",
        "# Add FC\n",
        "fcHead = Dense(512, activation='relu')(fcHead)\n",
        "fcHead = Dense(256, activation='relu')(fcHead)\n",
        "fcHead = Dense(128, activation='relu')(fcHead)\n",
        "fcHead = Dropout(0.5)(fcHead)\n",
        "# Output layer with softmax activation\n",
        "fcHead = Dense(2, activation='softmax')(fcHead)\n",
        "\n",
        "model = Model(inputs=baseModel.input, outputs=fcHead)"
      ],
      "execution_count": null,
      "outputs": []
    },
    {
      "cell_type": "code",
      "metadata": {
        "id": "KnzC8nzSxlte",
        "colab": {
          "base_uri": "https://localhost:8080/",
          "height": 275
        },
        "outputId": "bbfc4634-447a-47ac-cbbb-2a8f6e224f87"
      },
      "source": [
        "from keras.optimizers import Adam\n",
        "from keras.callbacks import ModelCheckpoint, EarlyStopping, ReduceLROnPlateau\n",
        "\n",
        "for layer in baseModel.layers:\n",
        "    layer.trainable = False\n",
        "    \n",
        "opt = SGD(lr=1e-4, momentum=0.7)\n",
        "model.compile(opt, 'sparse_categorical_crossentropy', ['accuracy'])\n",
        "numOfEpoch = 40\n",
        "len_train = 20064\n",
        "len_valid = 2500\n",
        "\n",
        "checkpoint = ModelCheckpoint(filepath = 'vgg16_ft.hdf5', verbose = 1, save_best_only = True)\n",
        "earlystop = EarlyStopping(monitor = 'val_loss', # value being monitored for improvement\n",
        "                          min_delta = 0, #Abs value and is the min change required before we stop\n",
        "                          patience = 15, #Number of epochs we wait before stopping \n",
        "                          verbose = 1,\n",
        "                          restore_best_weights = True) #keeps the best weigths once stopped\n",
        "ReduceLR = ReduceLROnPlateau(patience=3, verbose=1)\n",
        "callbacks = [earlystop, checkpoint, ReduceLR]                          \n",
        "H = model.fit_generator(train_generator, \n",
        "                        steps_per_epoch=len_train//bs,\n",
        "                        validation_data=valid_generator,\n",
        "                        validation_steps=len_valid//bs,\n",
        "                        epochs=numOfEpoch,\n",
        "                        callbacks = callbacks,\n",
        "                        use_multiprocessing=True,\n",
        "                        workers=0)"
      ],
      "execution_count": null,
      "outputs": [
        {
          "output_type": "stream",
          "text": [
            "Epoch 1/40\n",
            "156/156 [==============================] - 18945s 121s/step - loss: 0.8440 - accuracy: 0.6005 - val_loss: 0.5270 - val_accuracy: 0.7516\n",
            "\n",
            "Epoch 00001: val_loss improved from inf to 0.52701, saving model to vgg16_ft.hdf5\n",
            "Epoch 2/40\n",
            "156/156 [==============================] - 11158s 72s/step - loss: 0.5964 - accuracy: 0.7048 - val_loss: 0.4321 - val_accuracy: 0.8170\n",
            "\n",
            "Epoch 00002: val_loss improved from 0.52701 to 0.43210, saving model to vgg16_ft.hdf5\n",
            "Epoch 3/40\n",
            "156/156 [==============================] - 11115s 71s/step - loss: 0.5231 - accuracy: 0.7514 - val_loss: 0.3854 - val_accuracy: 0.8326\n",
            "\n",
            "Epoch 00003: val_loss improved from 0.43210 to 0.38536, saving model to vgg16_ft.hdf5\n",
            "Epoch 4/40\n",
            " 28/156 [====>.........................] - ETA: 2:15:11 - loss: 0.4833 - accuracy: 0.7708"
          ],
          "name": "stdout"
        }
      ]
    },
    {
      "cell_type": "markdown",
      "metadata": {
        "id": "pLaJK45pqWU-"
      },
      "source": [
        "### Đánh giá mô hình"
      ]
    },
    {
      "cell_type": "code",
      "metadata": {
        "id": "kHYvHnNO7mLn",
        "colab": {
          "base_uri": "https://localhost:8080/",
          "height": 573
        },
        "outputId": "c197bdaf-706e-4f23-cf5d-2481144c15d8"
      },
      "source": [
        "import matplotlib.pyplot as plt\n",
        "\n",
        "# Plot training & validation accuracy values\n",
        "plt.plot(H.history['accuracy'])\n",
        "plt.plot(H.history['val_accuracy'])\n",
        "plt.title('Model accuracy')\n",
        "plt.ylabel('Accuracy')\n",
        "plt.xlabel('Epoch')\n",
        "plt.legend(['Train', 'Validate'], loc='upper left')\n",
        "plt.show()\n",
        "\n",
        "# Plot training & validation loss values\n",
        "plt.plot(H.history['loss'])\n",
        "plt.plot(H.history['val_loss'])\n",
        "plt.title('Model loss')\n",
        "plt.ylabel('Loss')\n",
        "plt.xlabel('Epoch')\n",
        "plt.legend(['Train', 'Validate'], loc='upper left')\n",
        "plt.show()"
      ],
      "execution_count": null,
      "outputs": [
        {
          "output_type": "display_data",
          "data": {
            "image/png": "[encoded data removed]",
            "text/plain": [
              "<Figure size 432x288 with 1 Axes>"
            ]
          },
          "metadata": {
            "tags": [],
            "needs_background": "light"
          }
        },
        {
          "output_type": "display_data",
          "data": {
            "image/png": "[encoded data removed]",
            "text/plain": [
              "<Figure size 432x288 with 1 Axes>"
            ]
          },
          "metadata": {
            "tags": [],
            "needs_background": "light"
          }
        }
      ]
    },
    {
      "cell_type": "code",
      "metadata": {
        "id": "Ze8RaqXDo1aI"
      },
      "source": [
        "from keras import models \n",
        "from keras.models import load_model\n",
        "\n",
        "model = load_model('vgg16_bnconv07.hdf5')\n",
        "model.load_weights('vgg16_bnconv07.hdf5')"
      ],
      "execution_count": null,
      "outputs": []
    },
    {
      "cell_type": "code",
      "metadata": {
        "id": "4NIGVKfHRi2l"
      },
      "source": [
        "x_test = np.load('x_test2.npy')\n",
        "y_test = np.load('y_test2.npy')"
      ],
      "execution_count": null,
      "outputs": []
    },
    {
      "cell_type": "code",
      "metadata": {
        "id": "CHiGbJRRNFdN"
      },
      "source": [
        "y_predict = model.predict(x_test)"
      ],
      "execution_count": null,
      "outputs": []
    },
    {
      "cell_type": "code",
      "metadata": {
        "id": "Ki_OIEPrNG2v"
      },
      "source": [
        "y_pred = list()\n",
        "for i in range(0,2513):\n",
        "  if y_predict[i][0]>y_predict[i][1]:\n",
        "    y_pred.append(0)\n",
        "  else:\n",
        "    y_pred.append(1)\n",
        "y = np.asarray(y_pred, dtype=np.float32)"
      ],
      "execution_count": null,
      "outputs": []
    },
    {
      "cell_type": "code",
      "metadata": {
        "id": "gsiU6SIYnhy9",
        "colab": {
          "base_uri": "https://localhost:8080/",
          "height": 34
        },
        "outputId": "a60a4e81-f371-4e25-ef77-1a55b6b326de"
      },
      "source": [
        "from sklearn.metrics import roc_auc_score\n",
        "\n",
        "print('AUC: ',roc_auc_score(y_test, y))"
      ],
      "execution_count": null,
      "outputs": [
        {
          "output_type": "stream",
          "text": [
            "AUC:  0.7020788080456405\n"
          ],
          "name": "stdout"
        }
      ]
    },
    {
      "cell_type": "code",
      "metadata": {
        "id": "E3Dku2xy2P3q",
        "colab": {
          "base_uri": "https://localhost:8080/",
          "height": 170
        },
        "outputId": "f2887568-d0c9-47bf-8d34-1608ab3b27ee"
      },
      "source": [
        "print(classification_report(y_test, y))"
      ],
      "execution_count": null,
      "outputs": [
        {
          "output_type": "stream",
          "text": [
            "              precision    recall  f1-score   support\n",
            "\n",
            "         0.0       0.79      0.61      0.69      1401\n",
            "         1.0       0.62      0.79      0.69      1112\n",
            "\n",
            "    accuracy                           0.69      2513\n",
            "   macro avg       0.70      0.70      0.69      2513\n",
            "weighted avg       0.71      0.69      0.69      2513\n",
            "\n"
          ],
          "name": "stdout"
        }
      ]
    },
    {
      "cell_type": "code",
      "metadata": {
        "id": "Fcw-YFAU3cNE",
        "colab": {
          "base_uri": "https://localhost:8080/",
          "height": 286
        },
        "outputId": "63eef092-16a5-47d6-df72-9d42f75ca7a5"
      },
      "source": [
        "from keras.preprocessing import image\n",
        "img = image.load_img(\"DATASET/TEST/R/R_10034.jpg\",target_size=(224,224))\n",
        "img = np.asarray(img)\n",
        "plt.imshow(img)\n",
        "img = np.expand_dims(img, axis=0)\n",
        "y_ = model.predict(img)\n",
        "if (y_[0][0]> y_[0][1]):\n",
        "  print('O')\n",
        "else:\n",
        "  print('R')"
      ],
      "execution_count": null,
      "outputs": [
        {
          "output_type": "stream",
          "text": [
            "0\n"
          ],
          "name": "stdout"
        },
        {
          "output_type": "display_data",
          "data": {
            "image/png": "[encoded data removed]",
            "text/plain": [
              "<Figure size 432x288 with 1 Axes>"
            ]
          },
          "metadata": {
            "tags": [],
            "needs_background": "light"
          }
        }
      ]
    },
    {
      "cell_type": "code",
      "metadata": {
        "id": "dP4hseQ1l7sN",
        "colab": {
          "base_uri": "https://localhost:8080/",
          "height": 34
        },
        "outputId": "621e402c-c544-4631-e561-89c539b62b23"
      },
      "source": [
        "import tensorflow as tf\n",
        "import os\n",
        "import random\n",
        "from tensorflow.keras.preprocessing.image import ImageDataGenerator\n",
        "from shutil import copyfile\n",
        "import matplotlib.pyplot as plt\n",
        "import matplotlib.image as mpimg\n",
        "import numpy as np\n",
        "from tensorflow.keras.preprocessing import image\n",
        "import PIL\n",
        "\n",
        "from sklearn.preprocessing import LabelEncoder\n",
        "\n",
        "from keras.models import Model\n",
        "from tensorflow.keras.applications.resnet50 import preprocess_input\n",
        "from tensorflow.keras.applications.resnet50 import ResNet50\n",
        "from keras.layers import Flatten, Input\n",
        "%matplotlib inline"
      ],
      "execution_count": null,
      "outputs": [
        {
          "output_type": "stream",
          "text": [
            "Using TensorFlow backend.\n"
          ],
          "name": "stderr"
        }
      ]
    },
    {
      "cell_type": "code",
      "metadata": {
        "id": "JLTckRo3l16U",
        "colab": {
          "base_uri": "https://localhost:8080/",
          "height": 1000
        },
        "outputId": "81e2d8b0-3956-448c-9096-b63057a75663"
      },
      "source": [
        "res = ResNet50(input_shape = (224, 224, 3), include_top = True, weights = 'imagenet')\n",
        "res.summary()"
      ],
      "execution_count": null,
      "outputs": [
        {
          "output_type": "stream",
          "text": [
            "Model: \"resnet50\"\n",
            "__________________________________________________________________________________________________\n",
            "Layer (type)                    Output Shape         Param #     Connected to                     \n",
            "==================================================================================================\n",
            "input_1 (InputLayer)            [(None, 224, 224, 3) 0                                            \n",
            "__________________________________________________________________________________________________\n",
            "conv1_pad (ZeroPadding2D)       (None, 230, 230, 3)  0           input_1[0][0]                    \n",
            "__________________________________________________________________________________________________\n",
            "conv1_conv (Conv2D)             (None, 112, 112, 64) 9472        conv1_pad[0][0]                  \n",
            "__________________________________________________________________________________________________\n",
            "conv1_bn (BatchNormalization)   (None, 112, 112, 64) 256         conv1_conv[0][0]                 \n",
            "__________________________________________________________________________________________________\n",
            "conv1_relu (Activation)         (None, 112, 112, 64) 0           conv1_bn[0][0]                   \n",
            "__________________________________________________________________________________________________\n",
            "pool1_pad (ZeroPadding2D)       (None, 114, 114, 64) 0           conv1_relu[0][0]                 \n",
            "__________________________________________________________________________________________________\n",
            "pool1_pool (MaxPooling2D)       (None, 56, 56, 64)   0           pool1_pad[0][0]                  \n",
            "__________________________________________________________________________________________________\n",
            "conv2_block1_1_conv (Conv2D)    (None, 56, 56, 64)   4160        pool1_pool[0][0]                 \n",
            "__________________________________________________________________________________________________\n",
            "conv2_block1_1_bn (BatchNormali (None, 56, 56, 64)   256         conv2_block1_1_conv[0][0]        \n",
            "__________________________________________________________________________________________________\n",
            "conv2_block1_1_relu (Activation (None, 56, 56, 64)   0           conv2_block1_1_bn[0][0]          \n",
            "__________________________________________________________________________________________________\n",
            "conv2_block1_2_conv (Conv2D)    (None, 56, 56, 64)   36928       conv2_block1_1_relu[0][0]        \n",
            "__________________________________________________________________________________________________\n",
            "conv2_block1_2_bn (BatchNormali (None, 56, 56, 64)   256         conv2_block1_2_conv[0][0]        \n",
            "__________________________________________________________________________________________________\n",
            "conv2_block1_2_relu (Activation (None, 56, 56, 64)   0           conv2_block1_2_bn[0][0]          \n",
            "__________________________________________________________________________________________________\n",
            "conv2_block1_0_conv (Conv2D)    (None, 56, 56, 256)  16640       pool1_pool[0][0]                 \n",
            "__________________________________________________________________________________________________\n",
            "conv2_block1_3_conv (Conv2D)    (None, 56, 56, 256)  16640       conv2_block1_2_relu[0][0]        \n",
            "__________________________________________________________________________________________________\n",
            "conv2_block1_0_bn (BatchNormali (None, 56, 56, 256)  1024        conv2_block1_0_conv[0][0]        \n",
            "__________________________________________________________________________________________________\n",
            "conv2_block1_3_bn (BatchNormali (None, 56, 56, 256)  1024        conv2_block1_3_conv[0][0]        \n",
            "__________________________________________________________________________________________________\n",
            "conv2_block1_add (Add)          (None, 56, 56, 256)  0           conv2_block1_0_bn[0][0]          \n",
            "                                                                 conv2_block1_3_bn[0][0]          \n",
            "__________________________________________________________________________________________________\n",
            "conv2_block1_out (Activation)   (None, 56, 56, 256)  0           conv2_block1_add[0][0]           \n",
            "__________________________________________________________________________________________________\n",
            "conv2_block2_1_conv (Conv2D)    (None, 56, 56, 64)   16448       conv2_block1_out[0][0]           \n",
            "__________________________________________________________________________________________________\n",
            "conv2_block2_1_bn (BatchNormali (None, 56, 56, 64)   256         conv2_block2_1_conv[0][0]        \n",
            "__________________________________________________________________________________________________\n",
            "conv2_block2_1_relu (Activation (None, 56, 56, 64)   0           conv2_block2_1_bn[0][0]          \n",
            "__________________________________________________________________________________________________\n",
            "conv2_block2_2_conv (Conv2D)    (None, 56, 56, 64)   36928       conv2_block2_1_relu[0][0]        \n",
            "__________________________________________________________________________________________________\n",
            "conv2_block2_2_bn (BatchNormali (None, 56, 56, 64)   256         conv2_block2_2_conv[0][0]        \n",
            "__________________________________________________________________________________________________\n",
            "conv2_block2_2_relu (Activation (None, 56, 56, 64)   0           conv2_block2_2_bn[0][0]          \n",
            "__________________________________________________________________________________________________\n",
            "conv2_block2_3_conv (Conv2D)    (None, 56, 56, 256)  16640       conv2_block2_2_relu[0][0]        \n",
            "__________________________________________________________________________________________________\n",
            "conv2_block2_3_bn (BatchNormali (None, 56, 56, 256)  1024        conv2_block2_3_conv[0][0]        \n",
            "__________________________________________________________________________________________________\n",
            "conv2_block2_add (Add)          (None, 56, 56, 256)  0           conv2_block1_out[0][0]           \n",
            "                                                                 conv2_block2_3_bn[0][0]          \n",
            "__________________________________________________________________________________________________\n",
            "conv2_block2_out (Activation)   (None, 56, 56, 256)  0           conv2_block2_add[0][0]           \n",
            "__________________________________________________________________________________________________\n",
            "conv2_block3_1_conv (Conv2D)    (None, 56, 56, 64)   16448       conv2_block2_out[0][0]           \n",
            "__________________________________________________________________________________________________\n",
            "conv2_block3_1_bn (BatchNormali (None, 56, 56, 64)   256         conv2_block3_1_conv[0][0]        \n",
            "__________________________________________________________________________________________________\n",
            "conv2_block3_1_relu (Activation (None, 56, 56, 64)   0           conv2_block3_1_bn[0][0]          \n",
            "__________________________________________________________________________________________________\n",
            "conv2_block3_2_conv (Conv2D)    (None, 56, 56, 64)   36928       conv2_block3_1_relu[0][0]        \n",
            "__________________________________________________________________________________________________\n",
            "conv2_block3_2_bn (BatchNormali (None, 56, 56, 64)   256         conv2_block3_2_conv[0][0]        \n",
            "__________________________________________________________________________________________________\n",
            "conv2_block3_2_relu (Activation (None, 56, 56, 64)   0           conv2_block3_2_bn[0][0]          \n",
            "__________________________________________________________________________________________________\n",
            "conv2_block3_3_conv (Conv2D)    (None, 56, 56, 256)  16640       conv2_block3_2_relu[0][0]        \n",
            "__________________________________________________________________________________________________\n",
            "conv2_block3_3_bn (BatchNormali (None, 56, 56, 256)  1024        conv2_block3_3_conv[0][0]        \n",
            "__________________________________________________________________________________________________\n",
            "conv2_block3_add (Add)          (None, 56, 56, 256)  0           conv2_block2_out[0][0]           \n",
            "                                                                 conv2_block3_3_bn[0][0]          \n",
            "__________________________________________________________________________________________________\n",
            "conv2_block3_out (Activation)   (None, 56, 56, 256)  0           conv2_block3_add[0][0]           \n",
            "__________________________________________________________________________________________________\n",
            "conv3_block1_1_conv (Conv2D)    (None, 28, 28, 128)  32896       conv2_block3_out[0][0]           \n",
            "__________________________________________________________________________________________________\n",
            "conv3_block1_1_bn (BatchNormali (None, 28, 28, 128)  512         conv3_block1_1_conv[0][0]        \n",
            "__________________________________________________________________________________________________\n",
            "conv3_block1_1_relu (Activation (None, 28, 28, 128)  0           conv3_block1_1_bn[0][0]          \n",
            "__________________________________________________________________________________________________\n",
            "conv3_block1_2_conv (Conv2D)    (None, 28, 28, 128)  147584      conv3_block1_1_relu[0][0]        \n",
            "__________________________________________________________________________________________________\n",
            "conv3_block1_2_bn (BatchNormali (None, 28, 28, 128)  512         conv3_block1_2_conv[0][0]        \n",
            "__________________________________________________________________________________________________\n",
            "conv3_block1_2_relu (Activation (None, 28, 28, 128)  0           conv3_block1_2_bn[0][0]          \n",
            "__________________________________________________________________________________________________\n",
            "conv3_block1_0_conv (Conv2D)    (None, 28, 28, 512)  131584      conv2_block3_out[0][0]           \n",
            "__________________________________________________________________________________________________\n",
            "conv3_block1_3_conv (Conv2D)    (None, 28, 28, 512)  66048       conv3_block1_2_relu[0][0]        \n",
            "__________________________________________________________________________________________________\n",
            "conv3_block1_0_bn (BatchNormali (None, 28, 28, 512)  2048        conv3_block1_0_conv[0][0]        \n",
            "__________________________________________________________________________________________________\n",
            "conv3_block1_3_bn (BatchNormali (None, 28, 28, 512)  2048        conv3_block1_3_conv[0][0]        \n",
            "__________________________________________________________________________________________________\n",
            "conv3_block1_add (Add)          (None, 28, 28, 512)  0           conv3_block1_0_bn[0][0]          \n",
            "                                                                 conv3_block1_3_bn[0][0]          \n",
            "__________________________________________________________________________________________________\n",
            "conv3_block1_out (Activation)   (None, 28, 28, 512)  0           conv3_block1_add[0][0]           \n",
            "__________________________________________________________________________________________________\n",
            "conv3_block2_1_conv (Conv2D)    (None, 28, 28, 128)  65664       conv3_block1_out[0][0]           \n",
            "__________________________________________________________________________________________________\n",
            "conv3_block2_1_bn (BatchNormali (None, 28, 28, 128)  512         conv3_block2_1_conv[0][0]        \n",
            "__________________________________________________________________________________________________\n",
            "conv3_block2_1_relu (Activation (None, 28, 28, 128)  0           conv3_block2_1_bn[0][0]          \n",
            "__________________________________________________________________________________________________\n",
            "conv3_block2_2_conv (Conv2D)    (None, 28, 28, 128)  147584      conv3_block2_1_relu[0][0]        \n",
            "__________________________________________________________________________________________________\n",
            "conv3_block2_2_bn (BatchNormali (None, 28, 28, 128)  512         conv3_block2_2_conv[0][0]        \n",
            "__________________________________________________________________________________________________\n",
            "conv3_block2_2_relu (Activation (None, 28, 28, 128)  0           conv3_block2_2_bn[0][0]          \n",
            "__________________________________________________________________________________________________\n",
            "conv3_block2_3_conv (Conv2D)    (None, 28, 28, 512)  66048       conv3_block2_2_relu[0][0]        \n",
            "__________________________________________________________________________________________________\n",
            "conv3_block2_3_bn (BatchNormali (None, 28, 28, 512)  2048        conv3_block2_3_conv[0][0]        \n",
            "__________________________________________________________________________________________________\n",
            "conv3_block2_add (Add)          (None, 28, 28, 512)  0           conv3_block1_out[0][0]           \n",
            "                                                                 conv3_block2_3_bn[0][0]          \n",
            "__________________________________________________________________________________________________\n",
            "conv3_block2_out (Activation)   (None, 28, 28, 512)  0           conv3_block2_add[0][0]           \n",
            "__________________________________________________________________________________________________\n",
            "conv3_block3_1_conv (Conv2D)    (None, 28, 28, 128)  65664       conv3_block2_out[0][0]           \n",
            "__________________________________________________________________________________________________\n",
            "conv3_block3_1_bn (BatchNormali (None, 28, 28, 128)  512         conv3_block3_1_conv[0][0]        \n",
            "__________________________________________________________________________________________________\n",
            "conv3_block3_1_relu (Activation (None, 28, 28, 128)  0           conv3_block3_1_bn[0][0]          \n",
            "__________________________________________________________________________________________________\n",
            "conv3_block3_2_conv (Conv2D)    (None, 28, 28, 128)  147584      conv3_block3_1_relu[0][0]        \n",
            "__________________________________________________________________________________________________\n",
            "conv3_block3_2_bn (BatchNormali (None, 28, 28, 128)  512         conv3_block3_2_conv[0][0]        \n",
            "__________________________________________________________________________________________________\n",
            "conv3_block3_2_relu (Activation (None, 28, 28, 128)  0           conv3_block3_2_bn[0][0]          \n",
            "__________________________________________________________________________________________________\n",
            "conv3_block3_3_conv (Conv2D)    (None, 28, 28, 512)  66048       conv3_block3_2_relu[0][0]        \n",
            "__________________________________________________________________________________________________\n",
            "conv3_block3_3_bn (BatchNormali (None, 28, 28, 512)  2048        conv3_block3_3_conv[0][0]        \n",
            "__________________________________________________________________________________________________\n",
            "conv3_block3_add (Add)          (None, 28, 28, 512)  0           conv3_block2_out[0][0]           \n",
            "                                                                 conv3_block3_3_bn[0][0]          \n",
            "__________________________________________________________________________________________________\n",
            "conv3_block3_out (Activation)   (None, 28, 28, 512)  0           conv3_block3_add[0][0]           \n",
            "__________________________________________________________________________________________________\n",
            "conv3_block4_1_conv (Conv2D)    (None, 28, 28, 128)  65664       conv3_block3_out[0][0]           \n",
            "__________________________________________________________________________________________________\n",
            "conv3_block4_1_bn (BatchNormali (None, 28, 28, 128)  512         conv3_block4_1_conv[0][0]        \n",
            "__________________________________________________________________________________________________\n",
            "conv3_block4_1_relu (Activation (None, 28, 28, 128)  0           conv3_block4_1_bn[0][0]          \n",
            "__________________________________________________________________________________________________\n",
            "conv3_block4_2_conv (Conv2D)    (None, 28, 28, 128)  147584      conv3_block4_1_relu[0][0]        \n",
            "__________________________________________________________________________________________________\n",
            "conv3_block4_2_bn (BatchNormali (None, 28, 28, 128)  512         conv3_block4_2_conv[0][0]        \n",
            "__________________________________________________________________________________________________\n",
            "conv3_block4_2_relu (Activation (None, 28, 28, 128)  0           conv3_block4_2_bn[0][0]          \n",
            "__________________________________________________________________________________________________\n",
            "conv3_block4_3_conv (Conv2D)    (None, 28, 28, 512)  66048       conv3_block4_2_relu[0][0]        \n",
            "__________________________________________________________________________________________________\n",
            "conv3_block4_3_bn (BatchNormali (None, 28, 28, 512)  2048        conv3_block4_3_conv[0][0]        \n",
            "__________________________________________________________________________________________________\n",
            "conv3_block4_add (Add)          (None, 28, 28, 512)  0           conv3_block3_out[0][0]           \n",
            "                                                                 conv3_block4_3_bn[0][0]          \n",
            "__________________________________________________________________________________________________\n",
            "conv3_block4_out (Activation)   (None, 28, 28, 512)  0           conv3_block4_add[0][0]           \n",
            "__________________________________________________________________________________________________\n",
            "conv4_block1_1_conv (Conv2D)    (None, 14, 14, 256)  131328      conv3_block4_out[0][0]           \n",
            "__________________________________________________________________________________________________\n",
            "conv4_block1_1_bn (BatchNormali (None, 14, 14, 256)  1024        conv4_block1_1_conv[0][0]        \n",
            "__________________________________________________________________________________________________\n",
            "conv4_block1_1_relu (Activation (None, 14, 14, 256)  0           conv4_block1_1_bn[0][0]          \n",
            "__________________________________________________________________________________________________\n",
            "conv4_block1_2_conv (Conv2D)    (None, 14, 14, 256)  590080      conv4_block1_1_relu[0][0]        \n",
            "__________________________________________________________________________________________________\n",
            "conv4_block1_2_bn (BatchNormali (None, 14, 14, 256)  1024        conv4_block1_2_conv[0][0]        \n",
            "__________________________________________________________________________________________________\n",
            "conv4_block1_2_relu (Activation (None, 14, 14, 256)  0           conv4_block1_2_bn[0][0]          \n",
            "__________________________________________________________________________________________________\n",
            "conv4_block1_0_conv (Conv2D)    (None, 14, 14, 1024) 525312      conv3_block4_out[0][0]           \n",
            "__________________________________________________________________________________________________\n",
            "conv4_block1_3_conv (Conv2D)    (None, 14, 14, 1024) 263168      conv4_block1_2_relu[0][0]        \n",
            "__________________________________________________________________________________________________\n",
            "conv4_block1_0_bn (BatchNormali (None, 14, 14, 1024) 4096        conv4_block1_0_conv[0][0]        \n",
            "__________________________________________________________________________________________________\n",
            "conv4_block1_3_bn (BatchNormali (None, 14, 14, 1024) 4096        conv4_block1_3_conv[0][0]        \n",
            "__________________________________________________________________________________________________\n",
            "conv4_block1_add (Add)          (None, 14, 14, 1024) 0           conv4_block1_0_bn[0][0]          \n",
            "                                                                 conv4_block1_3_bn[0][0]          \n",
            "__________________________________________________________________________________________________\n",
            "conv4_block1_out (Activation)   (None, 14, 14, 1024) 0           conv4_block1_add[0][0]           \n",
            "__________________________________________________________________________________________________\n",
            "conv4_block2_1_conv (Conv2D)    (None, 14, 14, 256)  262400      conv4_block1_out[0][0]           \n",
            "__________________________________________________________________________________________________\n",
            "conv4_block2_1_bn (BatchNormali (None, 14, 14, 256)  1024        conv4_block2_1_conv[0][0]        \n",
            "__________________________________________________________________________________________________\n",
            "conv4_block2_1_relu (Activation (None, 14, 14, 256)  0           conv4_block2_1_bn[0][0]          \n",
            "__________________________________________________________________________________________________\n",
            "conv4_block2_2_conv (Conv2D)    (None, 14, 14, 256)  590080      conv4_block2_1_relu[0][0]        \n",
            "__________________________________________________________________________________________________\n",
            "conv4_block2_2_bn (BatchNormali (None, 14, 14, 256)  1024        conv4_block2_2_conv[0][0]        \n",
            "__________________________________________________________________________________________________\n",
            "conv4_block2_2_relu (Activation (None, 14, 14, 256)  0           conv4_block2_2_bn[0][0]          \n",
            "__________________________________________________________________________________________________\n",
            "conv4_block2_3_conv (Conv2D)    (None, 14, 14, 1024) 263168      conv4_block2_2_relu[0][0]        \n",
            "__________________________________________________________________________________________________\n",
            "conv4_block2_3_bn (BatchNormali (None, 14, 14, 1024) 4096        conv4_block2_3_conv[0][0]        \n",
            "__________________________________________________________________________________________________\n",
            "conv4_block2_add (Add)          (None, 14, 14, 1024) 0           conv4_block1_out[0][0]           \n",
            "                                                                 conv4_block2_3_bn[0][0]          \n",
            "__________________________________________________________________________________________________\n",
            "conv4_block2_out (Activation)   (None, 14, 14, 1024) 0           conv4_block2_add[0][0]           \n",
            "__________________________________________________________________________________________________\n",
            "conv4_block3_1_conv (Conv2D)    (None, 14, 14, 256)  262400      conv4_block2_out[0][0]           \n",
            "__________________________________________________________________________________________________\n",
            "conv4_block3_1_bn (BatchNormali (None, 14, 14, 256)  1024        conv4_block3_1_conv[0][0]        \n",
            "__________________________________________________________________________________________________\n",
            "conv4_block3_1_relu (Activation (None, 14, 14, 256)  0           conv4_block3_1_bn[0][0]          \n",
            "__________________________________________________________________________________________________\n",
            "conv4_block3_2_conv (Conv2D)    (None, 14, 14, 256)  590080      conv4_block3_1_relu[0][0]        \n",
            "__________________________________________________________________________________________________\n",
            "conv4_block3_2_bn (BatchNormali (None, 14, 14, 256)  1024        conv4_block3_2_conv[0][0]        \n",
            "__________________________________________________________________________________________________\n",
            "conv4_block3_2_relu (Activation (None, 14, 14, 256)  0           conv4_block3_2_bn[0][0]          \n",
            "__________________________________________________________________________________________________\n",
            "conv4_block3_3_conv (Conv2D)    (None, 14, 14, 1024) 263168      conv4_block3_2_relu[0][0]        \n",
            "__________________________________________________________________________________________________\n",
            "conv4_block3_3_bn (BatchNormali (None, 14, 14, 1024) 4096        conv4_block3_3_conv[0][0]        \n",
            "__________________________________________________________________________________________________\n",
            "conv4_block3_add (Add)          (None, 14, 14, 1024) 0           conv4_block2_out[0][0]           \n",
            "                                                                 conv4_block3_3_bn[0][0]          \n",
            "__________________________________________________________________________________________________\n",
            "conv4_block3_out (Activation)   (None, 14, 14, 1024) 0           conv4_block3_add[0][0]           \n",
            "__________________________________________________________________________________________________\n",
            "conv4_block4_1_conv (Conv2D)    (None, 14, 14, 256)  262400      conv4_block3_out[0][0]           \n",
            "__________________________________________________________________________________________________\n",
            "conv4_block4_1_bn (BatchNormali (None, 14, 14, 256)  1024        conv4_block4_1_conv[0][0]        \n",
            "__________________________________________________________________________________________________\n",
            "conv4_block4_1_relu (Activation (None, 14, 14, 256)  0           conv4_block4_1_bn[0][0]          \n",
            "__________________________________________________________________________________________________\n",
            "conv4_block4_2_conv (Conv2D)    (None, 14, 14, 256)  590080      conv4_block4_1_relu[0][0]        \n",
            "__________________________________________________________________________________________________\n",
            "conv4_block4_2_bn (BatchNormali (None, 14, 14, 256)  1024        conv4_block4_2_conv[0][0]        \n",
            "__________________________________________________________________________________________________\n",
            "conv4_block4_2_relu (Activation (None, 14, 14, 256)  0           conv4_block4_2_bn[0][0]          \n",
            "__________________________________________________________________________________________________\n",
            "conv4_block4_3_conv (Conv2D)    (None, 14, 14, 1024) 263168      conv4_block4_2_relu[0][0]        \n",
            "__________________________________________________________________________________________________\n",
            "conv4_block4_3_bn (BatchNormali (None, 14, 14, 1024) 4096        conv4_block4_3_conv[0][0]        \n",
            "__________________________________________________________________________________________________\n",
            "conv4_block4_add (Add)          (None, 14, 14, 1024) 0           conv4_block3_out[0][0]           \n",
            "                                                                 conv4_block4_3_bn[0][0]          \n",
            "__________________________________________________________________________________________________\n",
            "conv4_block4_out (Activation)   (None, 14, 14, 1024) 0           conv4_block4_add[0][0]           \n",
            "__________________________________________________________________________________________________\n",
            "conv4_block5_1_conv (Conv2D)    (None, 14, 14, 256)  262400      conv4_block4_out[0][0]           \n",
            "__________________________________________________________________________________________________\n",
            "conv4_block5_1_bn (BatchNormali (None, 14, 14, 256)  1024        conv4_block5_1_conv[0][0]        \n",
            "__________________________________________________________________________________________________\n",
            "conv4_block5_1_relu (Activation (None, 14, 14, 256)  0           conv4_block5_1_bn[0][0]          \n",
            "__________________________________________________________________________________________________\n",
            "conv4_block5_2_conv (Conv2D)    (None, 14, 14, 256)  590080      conv4_block5_1_relu[0][0]        \n",
            "__________________________________________________________________________________________________\n",
            "conv4_block5_2_bn (BatchNormali (None, 14, 14, 256)  1024        conv4_block5_2_conv[0][0]        \n",
            "__________________________________________________________________________________________________\n",
            "conv4_block5_2_relu (Activation (None, 14, 14, 256)  0           conv4_block5_2_bn[0][0]          \n",
            "__________________________________________________________________________________________________\n",
            "conv4_block5_3_conv (Conv2D)    (None, 14, 14, 1024) 263168      conv4_block5_2_relu[0][0]        \n",
            "__________________________________________________________________________________________________\n",
            "conv4_block5_3_bn (BatchNormali (None, 14, 14, 1024) 4096        conv4_block5_3_conv[0][0]        \n",
            "__________________________________________________________________________________________________\n",
            "conv4_block5_add (Add)          (None, 14, 14, 1024) 0           conv4_block4_out[0][0]           \n",
            "                                                                 conv4_block5_3_bn[0][0]          \n",
            "__________________________________________________________________________________________________\n",
            "conv4_block5_out (Activation)   (None, 14, 14, 1024) 0           conv4_block5_add[0][0]           \n",
            "__________________________________________________________________________________________________\n",
            "conv4_block6_1_conv (Conv2D)    (None, 14, 14, 256)  262400      conv4_block5_out[0][0]           \n",
            "__________________________________________________________________________________________________\n",
            "conv4_block6_1_bn (BatchNormali (None, 14, 14, 256)  1024        conv4_block6_1_conv[0][0]        \n",
            "__________________________________________________________________________________________________\n",
            "conv4_block6_1_relu (Activation (None, 14, 14, 256)  0           conv4_block6_1_bn[0][0]          \n",
            "__________________________________________________________________________________________________\n",
            "conv4_block6_2_conv (Conv2D)    (None, 14, 14, 256)  590080      conv4_block6_1_relu[0][0]        \n",
            "__________________________________________________________________________________________________\n",
            "conv4_block6_2_bn (BatchNormali (None, 14, 14, 256)  1024        conv4_block6_2_conv[0][0]        \n",
            "__________________________________________________________________________________________________\n",
            "conv4_block6_2_relu (Activation (None, 14, 14, 256)  0           conv4_block6_2_bn[0][0]          \n",
            "__________________________________________________________________________________________________\n",
            "conv4_block6_3_conv (Conv2D)    (None, 14, 14, 1024) 263168      conv4_block6_2_relu[0][0]        \n",
            "__________________________________________________________________________________________________\n",
            "conv4_block6_3_bn (BatchNormali (None, 14, 14, 1024) 4096        conv4_block6_3_conv[0][0]        \n",
            "__________________________________________________________________________________________________\n",
            "conv4_block6_add (Add)          (None, 14, 14, 1024) 0           conv4_block5_out[0][0]           \n",
            "                                                                 conv4_block6_3_bn[0][0]          \n",
            "__________________________________________________________________________________________________\n",
            "conv4_block6_out (Activation)   (None, 14, 14, 1024) 0           conv4_block6_add[0][0]           \n",
            "__________________________________________________________________________________________________\n",
            "conv5_block1_1_conv (Conv2D)    (None, 7, 7, 512)    524800      conv4_block6_out[0][0]           \n",
            "__________________________________________________________________________________________________\n",
            "conv5_block1_1_bn (BatchNormali (None, 7, 7, 512)    2048        conv5_block1_1_conv[0][0]        \n",
            "__________________________________________________________________________________________________\n",
            "conv5_block1_1_relu (Activation (None, 7, 7, 512)    0           conv5_block1_1_bn[0][0]          \n",
            "__________________________________________________________________________________________________\n",
            "conv5_block1_2_conv (Conv2D)    (None, 7, 7, 512)    2359808     conv5_block1_1_relu[0][0]        \n",
            "__________________________________________________________________________________________________\n",
            "conv5_block1_2_bn (BatchNormali (None, 7, 7, 512)    2048        conv5_block1_2_conv[0][0]        \n",
            "__________________________________________________________________________________________________\n",
            "conv5_block1_2_relu (Activation (None, 7, 7, 512)    0           conv5_block1_2_bn[0][0]          \n",
            "__________________________________________________________________________________________________\n",
            "conv5_block1_0_conv (Conv2D)    (None, 7, 7, 2048)   2099200     conv4_block6_out[0][0]           \n",
            "__________________________________________________________________________________________________\n",
            "conv5_block1_3_conv (Conv2D)    (None, 7, 7, 2048)   1050624     conv5_block1_2_relu[0][0]        \n",
            "__________________________________________________________________________________________________\n",
            "conv5_block1_0_bn (BatchNormali (None, 7, 7, 2048)   8192        conv5_block1_0_conv[0][0]        \n",
            "__________________________________________________________________________________________________\n",
            "conv5_block1_3_bn (BatchNormali (None, 7, 7, 2048)   8192        conv5_block1_3_conv[0][0]        \n",
            "__________________________________________________________________________________________________\n",
            "conv5_block1_add (Add)          (None, 7, 7, 2048)   0           conv5_block1_0_bn[0][0]          \n",
            "                                                                 conv5_block1_3_bn[0][0]          \n",
            "__________________________________________________________________________________________________\n",
            "conv5_block1_out (Activation)   (None, 7, 7, 2048)   0           conv5_block1_add[0][0]           \n",
            "__________________________________________________________________________________________________\n",
            "conv5_block2_1_conv (Conv2D)    (None, 7, 7, 512)    1049088     conv5_block1_out[0][0]           \n",
            "__________________________________________________________________________________________________\n",
            "conv5_block2_1_bn (BatchNormali (None, 7, 7, 512)    2048        conv5_block2_1_conv[0][0]        \n",
            "__________________________________________________________________________________________________\n",
            "conv5_block2_1_relu (Activation (None, 7, 7, 512)    0           conv5_block2_1_bn[0][0]          \n",
            "__________________________________________________________________________________________________\n",
            "conv5_block2_2_conv (Conv2D)    (None, 7, 7, 512)    2359808     conv5_block2_1_relu[0][0]        \n",
            "__________________________________________________________________________________________________\n",
            "conv5_block2_2_bn (BatchNormali (None, 7, 7, 512)    2048        conv5_block2_2_conv[0][0]        \n",
            "__________________________________________________________________________________________________\n",
            "conv5_block2_2_relu (Activation (None, 7, 7, 512)    0           conv5_block2_2_bn[0][0]          \n",
            "__________________________________________________________________________________________________\n",
            "conv5_block2_3_conv (Conv2D)    (None, 7, 7, 2048)   1050624     conv5_block2_2_relu[0][0]        \n",
            "__________________________________________________________________________________________________\n",
            "conv5_block2_3_bn (BatchNormali (None, 7, 7, 2048)   8192        conv5_block2_3_conv[0][0]        \n",
            "__________________________________________________________________________________________________\n",
            "conv5_block2_add (Add)          (None, 7, 7, 2048)   0           conv5_block1_out[0][0]           \n",
            "                                                                 conv5_block2_3_bn[0][0]          \n",
            "__________________________________________________________________________________________________\n",
            "conv5_block2_out (Activation)   (None, 7, 7, 2048)   0           conv5_block2_add[0][0]           \n",
            "__________________________________________________________________________________________________\n",
            "conv5_block3_1_conv (Conv2D)    (None, 7, 7, 512)    1049088     conv5_block2_out[0][0]           \n",
            "__________________________________________________________________________________________________\n",
            "conv5_block3_1_bn (BatchNormali (None, 7, 7, 512)    2048        conv5_block3_1_conv[0][0]        \n",
            "__________________________________________________________________________________________________\n",
            "conv5_block3_1_relu (Activation (None, 7, 7, 512)    0           conv5_block3_1_bn[0][0]          \n",
            "__________________________________________________________________________________________________\n",
            "conv5_block3_2_conv (Conv2D)    (None, 7, 7, 512)    2359808     conv5_block3_1_relu[0][0]        \n",
            "__________________________________________________________________________________________________\n",
            "conv5_block3_2_bn (BatchNormali (None, 7, 7, 512)    2048        conv5_block3_2_conv[0][0]        \n",
            "__________________________________________________________________________________________________\n",
            "conv5_block3_2_relu (Activation (None, 7, 7, 512)    0           conv5_block3_2_bn[0][0]          \n",
            "__________________________________________________________________________________________________\n",
            "conv5_block3_3_conv (Conv2D)    (None, 7, 7, 2048)   1050624     conv5_block3_2_relu[0][0]        \n",
            "__________________________________________________________________________________________________\n",
            "conv5_block3_3_bn (BatchNormali (None, 7, 7, 2048)   8192        conv5_block3_3_conv[0][0]        \n",
            "__________________________________________________________________________________________________\n",
            "conv5_block3_add (Add)          (None, 7, 7, 2048)   0           conv5_block2_out[0][0]           \n",
            "                                                                 conv5_block3_3_bn[0][0]          \n",
            "__________________________________________________________________________________________________\n",
            "conv5_block3_out (Activation)   (None, 7, 7, 2048)   0           conv5_block3_add[0][0]           \n",
            "__________________________________________________________________________________________________\n",
            "avg_pool (GlobalAveragePooling2 (None, 2048)         0           conv5_block3_out[0][0]           \n",
            "__________________________________________________________________________________________________\n",
            "predictions (Dense)             (None, 1000)         2049000     avg_pool[0][0]                   \n",
            "==================================================================================================\n",
            "Total params: 25,636,712\n",
            "Trainable params: 25,583,592\n",
            "Non-trainable params: 53,120\n",
            "__________________________________________________________________________________________________\n"
          ],
          "name": "stdout"
        }
      ]
    },
    {
      "cell_type": "code",
      "metadata": {
        "id": "qcwvygH5mDFa",
        "colab": {
          "base_uri": "https://localhost:8080/",
          "height": 1000
        },
        "outputId": "b152c4a3-a646-4e49-d379-ca30cda94278"
      },
      "source": [
        "for layer in res.layers:\n",
        "  print(layer, layer.trainable)"
      ],
      "execution_count": null,
      "outputs": [
        {
          "output_type": "stream",
          "text": [
            "<tensorflow.python.keras.engine.input_layer.InputLayer object at 0x7f6fbd87de80> True\n",
            "<tensorflow.python.keras.layers.convolutional.ZeroPadding2D object at 0x7f6f73de9eb8> True\n",
            "<tensorflow.python.keras.layers.convolutional.Conv2D object at 0x7f6f73e06780> True\n",
            "<tensorflow.python.keras.layers.normalization_v2.BatchNormalization object at 0x7f6f73e064a8> True\n",
            "<tensorflow.python.keras.layers.core.Activation object at 0x7f6f735c0be0> True\n",
            "<tensorflow.python.keras.layers.convolutional.ZeroPadding2D object at 0x7f6f735c0208> True\n",
            "<tensorflow.python.keras.layers.pooling.MaxPooling2D object at 0x7f6f6db1ccf8> True\n",
            "<tensorflow.python.keras.layers.convolutional.Conv2D object at 0x7f6f6db28128> True\n",
            "<tensorflow.python.keras.layers.normalization_v2.BatchNormalization object at 0x7f6f6dad09e8> True\n",
            "<tensorflow.python.keras.layers.core.Activation object at 0x7f6f6dad6b70> True\n",
            "<tensorflow.python.keras.layers.convolutional.Conv2D object at 0x7f6f6dad6358> True\n",
            "<tensorflow.python.keras.layers.normalization_v2.BatchNormalization object at 0x7f6f6dafde48> True\n",
            "<tensorflow.python.keras.layers.core.Activation object at 0x7f6f6da855c0> True\n",
            "<tensorflow.python.keras.layers.convolutional.Conv2D object at 0x7f6f73e0e2b0> True\n",
            "<tensorflow.python.keras.layers.convolutional.Conv2D object at 0x7f6f6da85668> True\n",
            "<tensorflow.python.keras.layers.normalization_v2.BatchNormalization object at 0x7f6f73e0ebe0> True\n",
            "<tensorflow.python.keras.layers.normalization_v2.BatchNormalization object at 0x7f6f6dab22e8> True\n",
            "<tensorflow.python.keras.layers.merge.Add object at 0x7f6f6dab2828> True\n",
            "<tensorflow.python.keras.layers.core.Activation object at 0x7f6f6dab83c8> True\n",
            "<tensorflow.python.keras.layers.convolutional.Conv2D object at 0x7f6f6da5c8d0> True\n",
            "<tensorflow.python.keras.layers.normalization_v2.BatchNormalization object at 0x7f6f6da5cc50> True\n",
            "<tensorflow.python.keras.layers.core.Activation object at 0x7f6f6da66e10> True\n",
            "<tensorflow.python.keras.layers.convolutional.Conv2D object at 0x7f6f6da665c0> True\n",
            "<tensorflow.python.keras.layers.normalization_v2.BatchNormalization object at 0x7f6f6da120f0> True\n",
            "<tensorflow.python.keras.layers.core.Activation object at 0x7f6f6da12978> True\n",
            "<tensorflow.python.keras.layers.convolutional.Conv2D object at 0x7f6f6da1c2b0> True\n",
            "<tensorflow.python.keras.layers.normalization_v2.BatchNormalization object at 0x7f6f6d9c1588> True\n",
            "<tensorflow.python.keras.layers.merge.Add object at 0x7f6f6d9c1ac8> True\n",
            "<tensorflow.python.keras.layers.core.Activation object at 0x7f6f6d9c8668> True\n",
            "<tensorflow.python.keras.layers.convolutional.Conv2D object at 0x7f6f6d9efb70> True\n",
            "<tensorflow.python.keras.layers.normalization_v2.BatchNormalization object at 0x7f6f6d9eff60> True\n",
            "<tensorflow.python.keras.layers.core.Activation object at 0x7f6f6d9f5f98> True\n",
            "<tensorflow.python.keras.layers.convolutional.Conv2D object at 0x7f6f6d99cda0> True\n",
            "<tensorflow.python.keras.layers.normalization_v2.BatchNormalization object at 0x7f6f6d9a2390> True\n",
            "<tensorflow.python.keras.layers.core.Activation object at 0x7f6f6d9a2c18> True\n",
            "<tensorflow.python.keras.layers.convolutional.Conv2D object at 0x7f6f6d9aa588> True\n",
            "<tensorflow.python.keras.layers.normalization_v2.BatchNormalization object at 0x7f6f6d954828> True\n",
            "<tensorflow.python.keras.layers.merge.Add object at 0x7f6f6d954f60> True\n",
            "<tensorflow.python.keras.layers.core.Activation object at 0x7f6f6d95a9b0> True\n",
            "<tensorflow.python.keras.layers.convolutional.Conv2D object at 0x7f6f6d905710> True\n",
            "<tensorflow.python.keras.layers.normalization_v2.BatchNormalization object at 0x7f6f6d9332b0> True\n",
            "<tensorflow.python.keras.layers.core.Activation object at 0x7f6f6d933a90> True\n",
            "<tensorflow.python.keras.layers.convolutional.Conv2D object at 0x7f6f6d93c400> True\n",
            "<tensorflow.python.keras.layers.normalization_v2.BatchNormalization object at 0x7f6f6d8e2710> True\n",
            "<tensorflow.python.keras.layers.core.Activation object at 0x7f6f6d8e2ef0> True\n",
            "<tensorflow.python.keras.layers.convolutional.Conv2D object at 0x7f6f6d97fb00> True\n",
            "<tensorflow.python.keras.layers.convolutional.Conv2D object at 0x7f6f6d8e98d0> True\n",
            "<tensorflow.python.keras.layers.normalization_v2.BatchNormalization object at 0x7f6f6d9051d0> True\n",
            "<tensorflow.python.keras.layers.normalization_v2.BatchNormalization object at 0x7f6f6d892c50> True\n",
            "<tensorflow.python.keras.layers.merge.Add object at 0x7f6f6d8973c8> True\n",
            "<tensorflow.python.keras.layers.core.Activation object at 0x7f6f6d897da0> True\n",
            "<tensorflow.python.keras.layers.convolutional.Conv2D object at 0x7f6f6d8bdb70> True\n",
            "<tensorflow.python.keras.layers.normalization_v2.BatchNormalization object at 0x7f6f6d8465f8> True\n",
            "<tensorflow.python.keras.layers.core.Activation object at 0x7f6f6d846e80> True\n",
            "<tensorflow.python.keras.layers.convolutional.Conv2D object at 0x7f6f6d84c7b8> True\n",
            "<tensorflow.python.keras.layers.normalization_v2.BatchNormalization object at 0x7f6f6d874ac8> True\n",
            "<tensorflow.python.keras.layers.core.Activation object at 0x7f6f6d878cc0> True\n",
            "<tensorflow.python.keras.layers.convolutional.Conv2D object at 0x7f6f6d878470> True\n",
            "<tensorflow.python.keras.layers.normalization_v2.BatchNormalization object at 0x7f6f6d8261d0> True\n",
            "<tensorflow.python.keras.layers.merge.Add object at 0x7f6f6d826550> True\n",
            "<tensorflow.python.keras.layers.core.Activation object at 0x7f6f6d82c198> True\n",
            "<tensorflow.python.keras.layers.convolutional.Conv2D object at 0x7f6f6d7d6668> True\n",
            "<tensorflow.python.keras.layers.normalization_v2.BatchNormalization object at 0x7f6f6d7d69b0> True\n",
            "<tensorflow.python.keras.layers.core.Activation object at 0x7f6f6d7ddba8> True\n",
            "<tensorflow.python.keras.layers.convolutional.Conv2D object at 0x7f6f6d7dd390> True\n",
            "<tensorflow.python.keras.layers.normalization_v2.BatchNormalization object at 0x7f6f6d783f28> True\n",
            "<tensorflow.python.keras.layers.core.Activation object at 0x7f6f6d789f60> True\n",
            "<tensorflow.python.keras.layers.convolutional.Conv2D object at 0x7f6f6d7b0dd8> True\n",
            "<tensorflow.python.keras.layers.normalization_v2.BatchNormalization object at 0x7f6f6d7b63c8> True\n",
            "<tensorflow.python.keras.layers.merge.Add object at 0x7f6f6d7b6908> True\n",
            "<tensorflow.python.keras.layers.core.Activation object at 0x7f6f6d7414a8> True\n",
            "<tensorflow.python.keras.layers.convolutional.Conv2D object at 0x7f6f6d764a20> True\n",
            "<tensorflow.python.keras.layers.normalization_v2.BatchNormalization object at 0x7f6f6d764da0> True\n",
            "<tensorflow.python.keras.layers.core.Activation object at 0x7f6f6d769f28> True\n",
            "<tensorflow.python.keras.layers.convolutional.Conv2D object at 0x7f6f6d7692e8> True\n",
            "<tensorflow.python.keras.layers.normalization_v2.BatchNormalization object at 0x7f6f6d716278> True\n",
            "<tensorflow.python.keras.layers.core.Activation object at 0x7f6f6d716b00> True\n",
            "<tensorflow.python.keras.layers.convolutional.Conv2D object at 0x7f6f6d720470> True\n",
            "<tensorflow.python.keras.layers.normalization_v2.BatchNormalization object at 0x7f6f6d6ca780> True\n",
            "<tensorflow.python.keras.layers.merge.Add object at 0x7f6f6d6caf60> True\n",
            "<tensorflow.python.keras.layers.core.Activation object at 0x7f6f6d6cf908> True\n",
            "<tensorflow.python.keras.layers.convolutional.Conv2D object at 0x7f6f6d6fc6a0> True\n",
            "<tensorflow.python.keras.layers.normalization_v2.BatchNormalization object at 0x7f6f6d6ac208> True\n",
            "<tensorflow.python.keras.layers.core.Activation object at 0x7f6f6d6aca20> True\n",
            "<tensorflow.python.keras.layers.convolutional.Conv2D object at 0x7f6f6d6b1390> True\n",
            "<tensorflow.python.keras.layers.normalization_v2.BatchNormalization object at 0x7f6f6d6586a0> True\n",
            "<tensorflow.python.keras.layers.core.Activation object at 0x7f6f6d658e80> True\n",
            "<tensorflow.python.keras.layers.convolutional.Conv2D object at 0x7f6f6d6f1a90> True\n",
            "<tensorflow.python.keras.layers.convolutional.Conv2D object at 0x7f6f6d65e898> True\n",
            "<tensorflow.python.keras.layers.normalization_v2.BatchNormalization object at 0x7f6f6d6fc160> True\n",
            "<tensorflow.python.keras.layers.normalization_v2.BatchNormalization object at 0x7f6f6d605be0> True\n",
            "<tensorflow.python.keras.layers.merge.Add object at 0x7f6f6d60c358> True\n",
            "<tensorflow.python.keras.layers.core.Activation object at 0x7f6f6d60cd30> True\n",
            "<tensorflow.python.keras.layers.convolutional.Conv2D object at 0x7f6f6d62ff98> True\n",
            "<tensorflow.python.keras.layers.normalization_v2.BatchNormalization object at 0x7f6f6d639588> True\n",
            "<tensorflow.python.keras.layers.core.Activation object at 0x7f6f6d639e10> True\n",
            "<tensorflow.python.keras.layers.convolutional.Conv2D object at 0x7f6f6d640780> True\n",
            "<tensorflow.python.keras.layers.normalization_v2.BatchNormalization object at 0x7f6f6d5e7a58> True\n",
            "<tensorflow.python.keras.layers.core.Activation object at 0x7f6f6d5eec50> True\n",
            "<tensorflow.python.keras.layers.convolutional.Conv2D object at 0x7f6f6d5ee438> True\n",
            "<tensorflow.python.keras.layers.normalization_v2.BatchNormalization object at 0x7f6f6d59b470> True\n",
            "<tensorflow.python.keras.layers.merge.Add object at 0x7f6f6d59b4e0> True\n",
            "<tensorflow.python.keras.layers.core.Activation object at 0x7f6f6d5a2128> True\n",
            "<tensorflow.python.keras.layers.convolutional.Conv2D object at 0x7f6f6d5485f8> True\n",
            "<tensorflow.python.keras.layers.normalization_v2.BatchNormalization object at 0x7f6f6d548940> True\n",
            "<tensorflow.python.keras.layers.core.Activation object at 0x7f6f6d551b38> True\n",
            "<tensorflow.python.keras.layers.convolutional.Conv2D object at 0x7f6f6d551320> True\n",
            "<tensorflow.python.keras.layers.normalization_v2.BatchNormalization object at 0x7f6f6d577e48> True\n",
            "<tensorflow.python.keras.layers.core.Activation object at 0x7f6f6d57d5c0> True\n",
            "<tensorflow.python.keras.layers.convolutional.Conv2D object at 0x7f6f6d57d668> True\n",
            "<tensorflow.python.keras.layers.normalization_v2.BatchNormalization object at 0x7f6f6d52c358> True\n",
            "<tensorflow.python.keras.layers.merge.Add object at 0x7f6f6d52c898> True\n",
            "<tensorflow.python.keras.layers.core.Activation object at 0x7f6f6d535438> True\n",
            "<tensorflow.python.keras.layers.convolutional.Conv2D object at 0x7f6f6d4da9b0> True\n",
            "<tensorflow.python.keras.layers.normalization_v2.BatchNormalization object at 0x7f6f6d4dad30> True\n",
            "<tensorflow.python.keras.layers.core.Activation object at 0x7f6f6d4e1ef0> True\n",
            "<tensorflow.python.keras.layers.convolutional.Conv2D object at 0x7f6f6d4e16a0> True\n",
            "<tensorflow.python.keras.layers.normalization_v2.BatchNormalization object at 0x7f6f6d490208> True\n",
            "<tensorflow.python.keras.layers.core.Activation object at 0x7f6f6d490a90> True\n",
            "<tensorflow.python.keras.layers.convolutional.Conv2D object at 0x7f6f6d497400> True\n",
            "<tensorflow.python.keras.layers.normalization_v2.BatchNormalization object at 0x7f6f6d4be710> True\n",
            "<tensorflow.python.keras.layers.merge.Add object at 0x7f6f6d4bef60> True\n",
            "<tensorflow.python.keras.layers.core.Activation object at 0x7f6f6d443898> True\n",
            "<tensorflow.python.keras.layers.convolutional.Conv2D object at 0x7f6f6d469a20> True\n",
            "<tensorflow.python.keras.layers.normalization_v2.BatchNormalization object at 0x7f6f6d4720f0> True\n",
            "<tensorflow.python.keras.layers.core.Activation object at 0x7f6f6d472978> True\n",
            "<tensorflow.python.keras.layers.convolutional.Conv2D object at 0x7f6f6d4782b0> True\n",
            "<tensorflow.python.keras.layers.normalization_v2.BatchNormalization object at 0x7f6f6d4225c0> True\n",
            "<tensorflow.python.keras.layers.core.Activation object at 0x7f6f6d422e48> True\n",
            "<tensorflow.python.keras.layers.convolutional.Conv2D object at 0x7f6f6d428780> True\n",
            "<tensorflow.python.keras.layers.normalization_v2.BatchNormalization object at 0x7f6f6d3ccac8> True\n",
            "<tensorflow.python.keras.layers.merge.Add object at 0x7f6f6d3d4278> True\n",
            "<tensorflow.python.keras.layers.core.Activation object at 0x7f6f6d3d4c50> True\n",
            "<tensorflow.python.keras.layers.convolutional.Conv2D object at 0x7f6f6d3fceb8> True\n",
            "<tensorflow.python.keras.layers.normalization_v2.BatchNormalization object at 0x7f6f6d3824a8> True\n",
            "<tensorflow.python.keras.layers.core.Activation object at 0x7f6f6d382d30> True\n",
            "<tensorflow.python.keras.layers.convolutional.Conv2D object at 0x7f6f6d3896a0> True\n",
            "<tensorflow.python.keras.layers.normalization_v2.BatchNormalization object at 0x7f6f6d3b0978> True\n",
            "<tensorflow.python.keras.layers.core.Activation object at 0x7f6f6d3b7b70> True\n",
            "<tensorflow.python.keras.layers.convolutional.Conv2D object at 0x7f6f6d3b7358> True\n",
            "<tensorflow.python.keras.layers.normalization_v2.BatchNormalization object at 0x7f6f6d35df28> True\n",
            "<tensorflow.python.keras.layers.merge.Add object at 0x7f6f6d363400> True\n",
            "<tensorflow.python.keras.layers.core.Activation object at 0x7f6f6d367048> True\n",
            "<tensorflow.python.keras.layers.convolutional.Conv2D object at 0x7f6f6d31aa20> True\n",
            "<tensorflow.python.keras.layers.normalization_v2.BatchNormalization object at 0x7f6f6d33f908> True\n",
            "<tensorflow.python.keras.layers.core.Activation object at 0x7f6f6d2c6a58> True\n",
            "<tensorflow.python.keras.layers.convolutional.Conv2D object at 0x7f6f6d2c6080> True\n",
            "<tensorflow.python.keras.layers.normalization_v2.BatchNormalization object at 0x7f6f6d2ecdd8> True\n",
            "<tensorflow.python.keras.layers.core.Activation object at 0x7f6f6d2f3f98> True\n",
            "<tensorflow.python.keras.layers.convolutional.Conv2D object at 0x7f6f6d311518> True\n",
            "<tensorflow.python.keras.layers.convolutional.Conv2D object at 0x7f6f6d2f36a0> True\n",
            "<tensorflow.python.keras.layers.normalization_v2.BatchNormalization object at 0x7f6f6d311860> True\n",
            "<tensorflow.python.keras.layers.normalization_v2.BatchNormalization object at 0x7f6f6d2a32e8> True\n",
            "<tensorflow.python.keras.layers.merge.Add object at 0x7f6f6d2a3828> True\n",
            "<tensorflow.python.keras.layers.core.Activation object at 0x7f6f6d2aa470> True\n",
            "<tensorflow.python.keras.layers.convolutional.Conv2D object at 0x7f6f6d24f940> True\n",
            "<tensorflow.python.keras.layers.normalization_v2.BatchNormalization object at 0x7f6f6d24fc18> True\n",
            "<tensorflow.python.keras.layers.core.Activation object at 0x7f6f6d254dd8> True\n",
            "<tensorflow.python.keras.layers.convolutional.Conv2D object at 0x7f6f6d254588> True\n",
            "<tensorflow.python.keras.layers.normalization_v2.BatchNormalization object at 0x7f6f6d206198> True\n",
            "<tensorflow.python.keras.layers.core.Activation object at 0x7f6f6d206a20> True\n",
            "<tensorflow.python.keras.layers.convolutional.Conv2D object at 0x7f6f6d20a390> True\n",
            "<tensorflow.python.keras.layers.normalization_v2.BatchNormalization object at 0x7f6f6d2346a0> True\n",
            "<tensorflow.python.keras.layers.merge.Add object at 0x7f6f6d234eb8> True\n",
            "<tensorflow.python.keras.layers.core.Activation object at 0x7f6f6d239828> True\n",
            "<tensorflow.python.keras.layers.convolutional.Conv2D object at 0x7f6f6d1e29b0> True\n",
            "<tensorflow.python.keras.layers.normalization_v2.BatchNormalization object at 0x7f6f6d1e7080> True\n",
            "<tensorflow.python.keras.layers.core.Activation object at 0x7f6f6d1e7908> True\n",
            "<tensorflow.python.keras.layers.convolutional.Conv2D object at 0x7f6f6d1ef240> True\n",
            "<tensorflow.python.keras.layers.normalization_v2.BatchNormalization object at 0x7f6f6d194550> True\n",
            "<tensorflow.python.keras.layers.core.Activation object at 0x7f6f6d194dd8> True\n",
            "<tensorflow.python.keras.layers.convolutional.Conv2D object at 0x7f6f6d19b748> True\n",
            "<tensorflow.python.keras.layers.normalization_v2.BatchNormalization object at 0x7f6f6d144a58> True\n",
            "<tensorflow.python.keras.layers.merge.Add object at 0x7f6f6d149208> True\n",
            "<tensorflow.python.keras.layers.core.Activation object at 0x7f6f6d149be0> True\n",
            "<tensorflow.python.keras.layers.pooling.GlobalAveragePooling2D object at 0x7f6f6d16fe48> True\n",
            "<tensorflow.python.keras.layers.core.Dense object at 0x7f6f6d177828> True\n"
          ],
          "name": "stdout"
        }
      ]
    },
    {
      "cell_type": "code",
      "metadata": {
        "id": "GK7RQKmIm_Wk",
        "colab": {
          "base_uri": "https://localhost:8080/",
          "height": 805
        },
        "outputId": "0a922276-a723-465f-baa7-fbeccbffac6b"
      },
      "source": [
        "model = tf.keras.models.Sequential()\n",
        "model.add(res)\n",
        "model.add(tf.keras.layers.Flatten())\n",
        "model.add(tf.keras.layers.Dense(256, activation='relu'))\n",
        "model.add(tf.keras.layers.Dense(2, activation='softmax'))\n",
        "model.compile(optimizer = 'adam', loss = 'sparse_categorical_crossentropy', metrics = ['acc'])\n",
        "model.summary()\n",
        "tf.keras.utils.plot_model(model, to_file='model.png', show_shapes=True)"
      ],
      "execution_count": null,
      "outputs": [
        {
          "output_type": "stream",
          "text": [
            "Model: \"sequential\"\n",
            "_________________________________________________________________\n",
            "Layer (type)                 Output Shape              Param #   \n",
            "=================================================================\n",
            "resnet50 (Model)             (None, 1000)              25636712  \n",
            "_________________________________________________________________\n",
            "flatten (Flatten)            (None, 1000)              0         \n",
            "_________________________________________________________________\n",
            "dense (Dense)                (None, 256)               256256    \n",
            "_________________________________________________________________\n",
            "dense_1 (Dense)              (None, 2)                 514       \n",
            "=================================================================\n",
            "Total params: 25,893,482\n",
            "Trainable params: 25,840,362\n",
            "Non-trainable params: 53,120\n",
            "_________________________________________________________________\n"
          ],
          "name": "stdout"
        },
        {
          "output_type": "execute_result",
          "data": {
            "image/png": "[encoded data removed]",
            "text/plain": [
              "<IPython.core.display.Image object>"
            ]
          },
          "metadata": {
            "tags": []
          },
          "execution_count": 8
        }
      ]
    },
    {
      "cell_type": "code",
      "metadata": {
        "id": "vZ0thO5HEqYl"
      },
      "source": [
        "from keras import models \n",
        "from keras.models import load_model\n",
        "\n",
        "model.load_weights('10epoch.h5')"
      ],
      "execution_count": null,
      "outputs": []
    },
    {
      "cell_type": "code",
      "metadata": {
        "id": "ftgAiY_QlxpT",
        "colab": {
          "base_uri": "https://localhost:8080/",
          "height": 286
        },
        "outputId": "ba35bef4-e0b2-4398-9b97-6395d2935276"
      },
      "source": [
        "from keras.preprocessing import image\n",
        "img = image.load_img(\"DATASET/TEST/R/R_10595.jpg\",target_size=(224,224))\n",
        "img = np.asarray(img)\n",
        "plt.imshow(img)\n",
        "img = np.expand_dims(img, axis=0)\n",
        "y_ = model.predict(img)\n",
        "if (y_[0][0]> y_[0][1]):\n",
        "  print('O')\n",
        "else:\n",
        "  print('R')"
      ],
      "execution_count": null,
      "outputs": [
        {
          "output_type": "stream",
          "text": [
            "O\n"
          ],
          "name": "stdout"
        },
        {
          "output_type": "display_data",
          "data": {
            "image/png": "[encoded data removed]",
            "text/plain": [
              "<Figure size 432x288 with 1 Axes>"
            ]
          },
          "metadata": {
            "tags": [],
            "needs_background": "light"
          }
        }
      ]
    },
    {
      "cell_type": "code",
      "metadata": {
        "id": "lImUvklNnFOv"
      },
      "source": [
        "x_test = np.load('x_test2.npy')\n",
        "y_test = np.load('y_test2.npy')"
      ],
      "execution_count": null,
      "outputs": []
    },
    {
      "cell_type": "code",
      "metadata": {
        "id": "JPUwjiPnnQkl"
      },
      "source": [
        "y_predict = model.predict(x_test)"
      ],
      "execution_count": null,
      "outputs": []
    },
    {
      "cell_type": "code",
      "metadata": {
        "id": "eLtV9aQYpJ7D",
        "colab": {
          "base_uri": "https://localhost:8080/",
          "height": 34
        },
        "outputId": "41a5c544-e6ce-460a-df1b-0eaf9a015454"
      },
      "source": [
        "y_predict[0]"
      ],
      "execution_count": null,
      "outputs": [
        {
          "output_type": "execute_result",
          "data": {
            "text/plain": [
              "array([0.99479634, 0.00520373], dtype=float32)"
            ]
          },
          "metadata": {
            "tags": []
          },
          "execution_count": 36
        }
      ]
    },
    {
      "cell_type": "code",
      "metadata": {
        "id": "ecj19sPPppWH",
        "colab": {
          "base_uri": "https://localhost:8080/",
          "height": 34
        },
        "outputId": "50bd51b6-1362-4451-cee0-54152b1316a1"
      },
      "source": [
        "y_test[0]"
      ],
      "execution_count": null,
      "outputs": [
        {
          "output_type": "execute_result",
          "data": {
            "text/plain": [
              "0.0"
            ]
          },
          "metadata": {
            "tags": []
          },
          "execution_count": 20
        }
      ]
    },
    {
      "cell_type": "code",
      "metadata": {
        "id": "4Yz0WMHBnVXg"
      },
      "source": [
        "y_pred = list()\n",
        "for i in range(0,2513):\n",
        "  if y_predict[i][0]>y_predict[i][1]:\n",
        "    y_pred.append(0)\n",
        "  else:\n",
        "    y_pred.append(1)\n",
        "y = np.asarray(y_pred, dtype=np.float32)"
      ],
      "execution_count": null,
      "outputs": []
    },
    {
      "cell_type": "code",
      "metadata": {
        "id": "gxmfD-vGnbbJ",
        "colab": {
          "base_uri": "https://localhost:8080/",
          "height": 34
        },
        "outputId": "af40a473-1e8c-4e53-a688-032637dd9832"
      },
      "source": [
        "from sklearn.metrics import roc_auc_score\n",
        "\n",
        "print('AUC: ',roc_auc_score(y_test, y))"
      ],
      "execution_count": null,
      "outputs": [
        {
          "output_type": "stream",
          "text": [
            "AUC:  0.5\n"
          ],
          "name": "stdout"
        }
      ]
    },
    {
      "cell_type": "code",
      "metadata": {
        "id": "GD9I9Ox2nep4",
        "colab": {
          "base_uri": "https://localhost:8080/",
          "height": 224
        },
        "outputId": "d8f0ebd1-7da2-497c-be81-e3a981ce2f3b"
      },
      "source": [
        "from sklearn.metrics import classification_report\n",
        "print(classification_report(y_test, y))"
      ],
      "execution_count": null,
      "outputs": [
        {
          "output_type": "stream",
          "text": [
            "              precision    recall  f1-score   support\n",
            "\n",
            "         0.0       0.56      1.00      0.72      1401\n",
            "         1.0       0.00      0.00      0.00      1112\n",
            "\n",
            "    accuracy                           0.56      2513\n",
            "   macro avg       0.28      0.50      0.36      2513\n",
            "weighted avg       0.31      0.56      0.40      2513\n",
            "\n"
          ],
          "name": "stdout"
        },
        {
          "output_type": "stream",
          "text": [
            "/usr/local/lib/python3.6/dist-packages/sklearn/metrics/_classification.py:1272: UndefinedMetricWarning: Precision and F-score are ill-defined and being set to 0.0 in labels with no predicted samples. Use `zero_division` parameter to control this behavior.\n",
            "  _warn_prf(average, modifier, msg_start, len(result))\n"
          ],
          "name": "stderr"
        }
      ]
    },
    {
      "cell_type": "code",
      "metadata": {
        "id": "v0GrT0WBozgb"
      },
      "source": [
        ""
      ],
      "execution_count": null,
      "outputs": []
    }
  ]
}